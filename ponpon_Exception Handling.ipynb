{
 "cells": [
  {
   "cell_type": "markdown",
   "id": "b6768421",
   "metadata": {},
   "source": [
    "# Sytax error 改好程式重新跑過即可\n",
    "# Exception"
   ]
  },
  {
   "cell_type": "code",
   "execution_count": 4,
   "id": "fdfba092",
   "metadata": {},
   "outputs": [
    {
     "name": "stdout",
     "output_type": "stream",
     "text": [
      "enter a number:6\n",
      "12\n"
     ]
    }
   ],
   "source": [
    "# 看似正常的程式\n",
    "data = input('enter a number:')\n",
    "number = int(data)\n",
    "number = number*2\n",
    "print(number)"
   ]
  },
  {
   "cell_type": "code",
   "execution_count": 5,
   "id": "c93389cf",
   "metadata": {},
   "outputs": [
    {
     "name": "stdout",
     "output_type": "stream",
     "text": [
      "enter a number:abc\n"
     ]
    },
    {
     "ename": "ValueError",
     "evalue": "invalid literal for int() with base 10: 'abc'",
     "output_type": "error",
     "traceback": [
      "\u001b[1;31m---------------------------------------------------------------------------\u001b[0m",
      "\u001b[1;31mValueError\u001b[0m                                Traceback (most recent call last)",
      "Input \u001b[1;32mIn [5]\u001b[0m, in \u001b[0;36m<cell line: 3>\u001b[1;34m()\u001b[0m\n\u001b[0;32m      1\u001b[0m \u001b[38;5;66;03m# 上述程式在使用者輸入abc，則型態轉換會失敗，發生例外，程式中斷\u001b[39;00m\n\u001b[0;32m      2\u001b[0m data \u001b[38;5;241m=\u001b[39m \u001b[38;5;28minput\u001b[39m(\u001b[38;5;124m'\u001b[39m\u001b[38;5;124menter a number:\u001b[39m\u001b[38;5;124m'\u001b[39m)\n\u001b[1;32m----> 3\u001b[0m number \u001b[38;5;241m=\u001b[39m \u001b[38;5;28;43mint\u001b[39;49m\u001b[43m(\u001b[49m\u001b[43mdata\u001b[49m\u001b[43m)\u001b[49m\n\u001b[0;32m      4\u001b[0m number \u001b[38;5;241m=\u001b[39m number\u001b[38;5;241m*\u001b[39m\u001b[38;5;241m2\u001b[39m\n\u001b[0;32m      5\u001b[0m \u001b[38;5;28mprint\u001b[39m(number)\n",
      "\u001b[1;31mValueError\u001b[0m: invalid literal for int() with base 10: 'abc'"
     ]
    }
   ],
   "source": [
    "# 上述程式在使用者輸入abc，則型態轉換會失敗，發生例外，程式中斷\n",
    "data = input('enter a number:')\n",
    "number = int(data)\n",
    "number = number*2\n",
    "print(number)"
   ]
  },
  {
   "cell_type": "markdown",
   "id": "14df6667",
   "metadata": {},
   "source": [
    "# 事先預想，處理可能發生的例外讓程式能順利進行執行下去"
   ]
  },
  {
   "cell_type": "markdown",
   "id": "74b40c1a",
   "metadata": {},
   "source": [
    "## 例外處理語法"
   ]
  },
  {
   "cell_type": "markdown",
   "id": "51df2907",
   "metadata": {},
   "source": [
    "try :\n",
    "    可能會發生例外的程式區塊\n",
    "    \n",
    "except Exception: \n",
    "    若上述try區塊的程式發生例外，跳進此區塊中的程式，繼續執行\n",
    "    \n"
   ]
  },
  {
   "cell_type": "code",
   "execution_count": 30,
   "id": "013e7cbf",
   "metadata": {},
   "outputs": [
    {
     "name": "stdout",
     "output_type": "stream",
     "text": [
      "請輸入數字:98\n",
      "您輸入的數字為{}: 98\n",
      "根據您的輸入所得到的結果為196!\n"
     ]
    }
   ],
   "source": [
    "# 使用者如果輸入的資料格式不對，請他重新輸入，直到輸入成功為止\n",
    "flag = 1\n",
    "while(flag != 0):\n",
    "    data = input('請輸入數字:')\n",
    "    print(\"您輸入的數字為{}:\",data)\n",
    "    try :\n",
    "        \n",
    "        flag = 0\n",
    "        number=int(data)\n",
    "        number = number*2\n",
    "\n",
    "    except Exception:\n",
    "        print(\"您的輸入有問題，務必要輸入數字!請重新輸入:\")\n",
    "        flag=1\n",
    "\n",
    "        \n",
    "print(\"根據您的輸入所得到的結果為{}!\".format(number))"
   ]
  },
  {
   "cell_type": "markdown",
   "id": "86a4659f",
   "metadata": {},
   "source": [
    "## 彭彭的作法"
   ]
  },
  {
   "cell_type": "code",
   "execution_count": 33,
   "id": "5ffeac0f",
   "metadata": {},
   "outputs": [
    {
     "name": "stdout",
     "output_type": "stream",
     "text": [
      "請輸入數字:98ㄅ\n",
      "您輸入的數字為{}: 98ㄅ\n",
      "您的輸入有問題，務必要輸入數字!請重新輸入:\n",
      "請輸入數字:9ㄉ\n",
      "您輸入的數字為{}: 9ㄉ\n",
      "您的輸入有問題，務必要輸入數字!請重新輸入:\n",
      "請輸入數字:qqqq\n",
      "您輸入的數字為{}: qqqq\n",
      "您的輸入有問題，務必要輸入數字!請重新輸入:\n",
      "請輸入數字:98\n",
      "您輸入的數字為{}: 98\n",
      "根據您的輸入 * 2 所得到的結果為196!\n"
     ]
    }
   ],
   "source": [
    "# 使用者如果輸入的資料格式不對，請他重新輸入，直到輸入成功為止\n",
    "while( True ):\n",
    "    data = input('請輸入數字:')\n",
    "    print(\"您輸入的數字為{}:\",data)\n",
    "    try :\n",
    "        number=int(data)\n",
    "        break\n",
    "    except Exception:\n",
    "        print(\"您的輸入有問題，務必要輸入數字!請重新輸入:\")\n",
    " \n",
    "number = number * 2       \n",
    "print(\"根據您的輸入 * 2 所得到的結果為{}!\".format(number))"
   ]
  }
 ],
 "metadata": {
  "kernelspec": {
   "display_name": "Python 3 (ipykernel)",
   "language": "python",
   "name": "python3"
  },
  "language_info": {
   "codemirror_mode": {
    "name": "ipython",
    "version": 3
   },
   "file_extension": ".py",
   "mimetype": "text/x-python",
   "name": "python",
   "nbconvert_exporter": "python",
   "pygments_lexer": "ipython3",
   "version": "3.9.12"
  }
 },
 "nbformat": 4,
 "nbformat_minor": 5
}
