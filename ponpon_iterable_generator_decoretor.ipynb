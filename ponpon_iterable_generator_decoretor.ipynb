{
 "cells": [
  {
   "cell_type": "markdown",
   "id": "19fcb865",
   "metadata": {},
   "source": [
    "## iterable data type: \n",
    "字串string、列表list、字典dictionary、"
   ]
  },
  {
   "cell_type": "markdown",
   "id": "ec1bde5f",
   "metadata": {},
   "source": [
    "## iterable 應用之處: \n",
    "搭配for loop \n",
    "for var in iterable_data: 將可疊代的資料分開，並逐一取出"
   ]
  },
  {
   "cell_type": "markdown",
   "id": "7e4a850b",
   "metadata": {},
   "source": [
    "## python 內建函式:\n",
    "max(iterable_data)\n",
    "sorted(iterable_data)\n"
   ]
  },
  {
   "cell_type": "code",
   "execution_count": 18,
   "id": "56b087cf",
   "metadata": {},
   "outputs": [
    {
     "name": "stdout",
     "output_type": "stream",
     "text": [
      "1\n",
      "3\n",
      "5\n",
      "7\n"
     ]
    }
   ],
   "source": [
    "for x in [1,3,5,7]: #列表\n",
    "    print(x)"
   ]
  },
  {
   "cell_type": "code",
   "execution_count": 19,
   "id": "d9c1815e",
   "metadata": {},
   "outputs": [
    {
     "name": "stdout",
     "output_type": "stream",
     "text": [
      "a\n",
      "b\n",
      "c\n"
     ]
    }
   ],
   "source": [
    "for x in \"abc\": #字串\n",
    "    print(x)"
   ]
  },
  {
   "cell_type": "code",
   "execution_count": 20,
   "id": "5749b433",
   "metadata": {},
   "outputs": [
    {
     "name": "stdout",
     "output_type": "stream",
     "text": [
      "10\n",
      "3\n",
      "a\n",
      "test\n"
     ]
    }
   ],
   "source": [
    "for x in {\"a\",\"test\",3,10}: #集合\n",
    "    print(x)"
   ]
  },
  {
   "cell_type": "code",
   "execution_count": 28,
   "id": "0ba7e925",
   "metadata": {},
   "outputs": [
    {
     "name": "stdout",
     "output_type": "stream",
     "text": [
      "a\n",
      "3\n",
      "b\n",
      "5\n"
     ]
    }
   ],
   "source": [
    "dic={\"a\":3,\"b\":5} #字典\n",
    "for key in dic:\n",
    "    print(key)\n",
    "    print(dic[key])"
   ]
  },
  {
   "cell_type": "code",
   "execution_count": 30,
   "id": "62dbc491",
   "metadata": {},
   "outputs": [
    {
     "data": {
      "text/plain": [
       "11"
      ]
     },
     "execution_count": 30,
     "metadata": {},
     "output_type": "execute_result"
    }
   ],
   "source": [
    "result=max([10,2,-4,11])\n",
    "result"
   ]
  },
  {
   "cell_type": "code",
   "execution_count": 31,
   "id": "129338ba",
   "metadata": {},
   "outputs": [
    {
     "data": {
      "text/plain": [
       "'z'"
      ]
     },
     "execution_count": 31,
     "metadata": {},
     "output_type": "execute_result"
    }
   ],
   "source": [
    "result=max(\"abcxyz\")\n",
    "result"
   ]
  },
  {
   "cell_type": "code",
   "execution_count": 32,
   "id": "ee8619ae",
   "metadata": {},
   "outputs": [
    {
     "data": {
      "text/plain": [
       "199"
      ]
     },
     "execution_count": 32,
     "metadata": {},
     "output_type": "execute_result"
    }
   ],
   "source": [
    "result=max({10,22,33,199})\n",
    "result"
   ]
  },
  {
   "cell_type": "code",
   "execution_count": 33,
   "id": "6298ca52",
   "metadata": {},
   "outputs": [
    {
     "data": {
      "text/plain": [
       "'y'"
      ]
     },
     "execution_count": 33,
     "metadata": {},
     "output_type": "execute_result"
    }
   ],
   "source": [
    "result=max({\"x\":3,\"y\":5}) #傳回key\n",
    "result"
   ]
  },
  {
   "cell_type": "code",
   "execution_count": 35,
   "id": "b7458ac4",
   "metadata": {},
   "outputs": [
    {
     "data": {
      "text/plain": [
       "['a', 'b', 'c', 'x', 'y', 'z']"
      ]
     },
     "execution_count": 35,
     "metadata": {},
     "output_type": "execute_result"
    }
   ],
   "source": [
    "sorted(\"xyzabc\") \n",
    "#取出可疊帶資料，取出後排列內建只能由小到大"
   ]
  },
  {
   "cell_type": "code",
   "execution_count": 37,
   "id": "b53b870b",
   "metadata": {},
   "outputs": [
    {
     "data": {
      "text/plain": [
       "['a', 'z']"
      ]
     },
     "execution_count": 37,
     "metadata": {},
     "output_type": "execute_result"
    }
   ],
   "source": [
    "result=sorted({\"z\":3,\"a\":5}) \n",
    "#傳回排序後的key\n",
    "result"
   ]
  },
  {
   "cell_type": "code",
   "execution_count": 42,
   "id": "b5ad7cd6",
   "metadata": {},
   "outputs": [
    {
     "ename": "TypeError",
     "evalue": "'<' not supported between instances of 'int' and 'str'",
     "output_type": "error",
     "traceback": [
      "\u001b[1;31m---------------------------------------------------------------------------\u001b[0m",
      "\u001b[1;31mTypeError\u001b[0m                                 Traceback (most recent call last)",
      "Input \u001b[1;32mIn [42]\u001b[0m, in \u001b[0;36m<cell line: 1>\u001b[1;34m()\u001b[0m\n\u001b[1;32m----> 1\u001b[0m result\u001b[38;5;241m=\u001b[39m\u001b[38;5;28;43msorted\u001b[39;49m\u001b[43m(\u001b[49m\u001b[43m{\u001b[49m\u001b[38;5;124;43m\"\u001b[39;49m\u001b[38;5;124;43mz\u001b[39;49m\u001b[38;5;124;43m\"\u001b[39;49m\u001b[43m,\u001b[49m\u001b[38;5;124;43m\"\u001b[39;49m\u001b[38;5;124;43mb\u001b[39;49m\u001b[38;5;124;43m\"\u001b[39;49m\u001b[43m,\u001b[49m\u001b[38;5;241;43m2\u001b[39;49m\u001b[43m,\u001b[49m\u001b[38;5;124;43m\"\u001b[39;49m\u001b[38;5;124;43mj\u001b[39;49m\u001b[38;5;124;43m\"\u001b[39;49m\u001b[43m,\u001b[49m\u001b[38;5;124;43m\"\u001b[39;49m\u001b[38;5;124;43ma\u001b[39;49m\u001b[38;5;124;43m\"\u001b[39;49m\u001b[43m}\u001b[49m\u001b[43m)\u001b[49m \u001b[38;5;66;03m#統一資料型態\u001b[39;00m\n\u001b[0;32m      2\u001b[0m result\n",
      "\u001b[1;31mTypeError\u001b[0m: '<' not supported between instances of 'int' and 'str'"
     ]
    }
   ],
   "source": [
    "result=sorted({\"z\",\"b\",\"j\",\"a\"}) #統一資料型態\n",
    "result"
   ]
  },
  {
   "cell_type": "code",
   "execution_count": 43,
   "id": "1fbd2520",
   "metadata": {},
   "outputs": [
    {
     "data": {
      "text/plain": [
       "[5, 7, 8, 9, 44]"
      ]
     },
     "execution_count": 43,
     "metadata": {},
     "output_type": "execute_result"
    }
   ],
   "source": [
    "result=sorted({5,5,8,7,9,44}) #統一資料型態\n",
    "result"
   ]
  },
  {
   "cell_type": "code",
   "execution_count": 3,
   "id": "b8ba6cfa",
   "metadata": {},
   "outputs": [],
   "source": [
    "## 基本語法-生成器，動態產生可疊代的資料iterable ，搭配for loop使用\n",
    "def test():\n",
    "    print(\"階段一\")\n",
    "    yield 5 #yield 資料\n",
    "    print(\"階段二\")\n",
    "    yield 10\n",
    "gen = test() #呼叫寒士，回傳生成器"
   ]
  },
  {
   "cell_type": "code",
   "execution_count": 4,
   "id": "1473243d",
   "metadata": {},
   "outputs": [
    {
     "data": {
      "text/plain": [
       "<generator object test at 0x0000019B31379820>"
      ]
     },
     "execution_count": 4,
     "metadata": {},
     "output_type": "execute_result"
    }
   ],
   "source": [
    "gen"
   ]
  },
  {
   "cell_type": "code",
   "execution_count": 5,
   "id": "2038d557",
   "metadata": {},
   "outputs": [
    {
     "name": "stdout",
     "output_type": "stream",
     "text": [
      "階段一\n",
      "5\n",
      "階段二\n",
      "10\n"
     ]
    }
   ],
   "source": [
    "for d in gen:\n",
    "    print(d)"
   ]
  },
  {
   "cell_type": "code",
   "execution_count": 8,
   "id": "99ebdf0f",
   "metadata": {},
   "outputs": [],
   "source": [
    "def evengen():\n",
    "    n=0\n",
    "    yield n\n",
    "    n+=2\n",
    "    yield n\n",
    "    n+=2\n",
    "    yield n\n",
    "evengen = evengen() "
   ]
  },
  {
   "cell_type": "code",
   "execution_count": 9,
   "id": "429d51cb",
   "metadata": {},
   "outputs": [
    {
     "name": "stdout",
     "output_type": "stream",
     "text": [
      "0\n",
      "2\n",
      "4\n"
     ]
    }
   ],
   "source": [
    "for d in evengen:\n",
    "    print(d)"
   ]
  },
  {
   "cell_type": "code",
   "execution_count": 11,
   "id": "866c9ce3",
   "metadata": {},
   "outputs": [],
   "source": [
    "def evengen_infty():\n",
    "    n=0\n",
    "    while True: # 可搭配條件做break\n",
    "        yield n\n",
    "        n+=2\n",
    "    \n",
    "eveng_infty = evengen_infty() \n",
    "\n",
    "# 例如\n",
    "# for d in eveng_infty:\n",
    "#     print(d)     形成無窮迴圈 可搭配條件做break\n"
   ]
  },
  {
   "cell_type": "code",
   "execution_count": 15,
   "id": "7654a99e",
   "metadata": {},
   "outputs": [],
   "source": [
    "def evengen_util_max(maxnumber):\n",
    "    n=0\n",
    "    while n<=maxnumber:\n",
    "        yield n\n",
    "        n+=2\n",
    "    \n",
    "evengen_to_max = evengen_util_max(20)    "
   ]
  },
  {
   "cell_type": "code",
   "execution_count": 16,
   "id": "4a24affa",
   "metadata": {},
   "outputs": [
    {
     "name": "stdout",
     "output_type": "stream",
     "text": [
      "0\n",
      "2\n",
      "4\n",
      "6\n",
      "8\n",
      "10\n",
      "12\n",
      "14\n",
      "16\n",
      "18\n",
      "20\n"
     ]
    }
   ],
   "source": [
    "for d in evengen_to_max:\n",
    "    print(d)"
   ]
  },
  {
   "cell_type": "markdown",
   "id": "8987c594",
   "metadata": {},
   "source": [
    "## 回呼函式Callback func \n"
   ]
  },
  {
   "cell_type": "code",
   "execution_count": 45,
   "id": "45ee817b",
   "metadata": {},
   "outputs": [],
   "source": [
    "# def test(arg):\n",
    "#     print(arg)  \n",
    "# 建立另一個函式handle\n",
    "# def handle():\n",
    "#     print(100) \n",
    "# 呼叫test，傳遞參數\n",
    "# test(handle)\n",
    "\n",
    "\n",
    "\n",
    "# def test(arg):\n",
    "#     arg()\n",
    "\n",
    "# def handle(data):\n",
    "#     print(arg)\n",
    "# test(handle)"
   ]
  },
  {
   "cell_type": "code",
   "execution_count": 48,
   "id": "81254a84",
   "metadata": {},
   "outputs": [],
   "source": [
    "def test(arg):\n",
    "    print(arg)"
   ]
  },
  {
   "cell_type": "code",
   "execution_count": 49,
   "id": "d33255cc",
   "metadata": {},
   "outputs": [
    {
     "name": "stdout",
     "output_type": "stream",
     "text": [
      "3\n"
     ]
    }
   ],
   "source": [
    "test(3)"
   ]
  },
  {
   "cell_type": "code",
   "execution_count": 50,
   "id": "982b8e34",
   "metadata": {},
   "outputs": [
    {
     "name": "stdout",
     "output_type": "stream",
     "text": [
      "hello\n"
     ]
    }
   ],
   "source": [
    "test(\"hello\")"
   ]
  },
  {
   "cell_type": "code",
   "execution_count": 51,
   "id": "0dd48d8a",
   "metadata": {},
   "outputs": [],
   "source": [
    "def test(arg):\n",
    "    print(arg)\n",
    "# 定義一個回呼函式\n",
    "def handle():\n",
    "    print(100)"
   ]
  },
  {
   "cell_type": "code",
   "execution_count": 52,
   "id": "70cb7a05",
   "metadata": {},
   "outputs": [
    {
     "name": "stdout",
     "output_type": "stream",
     "text": [
      "<function handle at 0x0000019B33B5AEE0>\n"
     ]
    }
   ],
   "source": [
    "test(handle)"
   ]
  },
  {
   "cell_type": "code",
   "execution_count": 55,
   "id": "56c0c139",
   "metadata": {},
   "outputs": [],
   "source": [
    "def test(arg):\n",
    "    \n",
    "    arg()#呼叫一個回呼函式\n",
    "\n",
    "# 定義一個回呼函式\n",
    "def handle():\n",
    "    print(100)"
   ]
  },
  {
   "cell_type": "code",
   "execution_count": 56,
   "id": "b13c4be0",
   "metadata": {},
   "outputs": [
    {
     "name": "stdout",
     "output_type": "stream",
     "text": [
      "100\n"
     ]
    }
   ],
   "source": [
    "test(handle)"
   ]
  },
  {
   "cell_type": "code",
   "execution_count": 57,
   "id": "a272ebde",
   "metadata": {},
   "outputs": [],
   "source": [
    "def test(arg):\n",
    "    arg(\"hello\")#呼叫一個回呼函式\n",
    "\n",
    "# 定義一個回呼函式\n",
    "def handle(da):\n",
    "    print(da)"
   ]
  },
  {
   "cell_type": "code",
   "execution_count": 58,
   "id": "e1f0c109",
   "metadata": {},
   "outputs": [
    {
     "name": "stdout",
     "output_type": "stream",
     "text": [
      "hello\n"
     ]
    }
   ],
   "source": [
    "test(handle) "
   ]
  },
  {
   "cell_type": "markdown",
   "id": "415ee756",
   "metadata": {},
   "source": [
    "## 整合式練習回呼函式"
   ]
  },
  {
   "cell_type": "code",
   "execution_count": 61,
   "id": "2801aeb5",
   "metadata": {},
   "outputs": [
    {
     "name": "stdout",
     "output_type": "stream",
     "text": [
      "結果為 7\n"
     ]
    }
   ],
   "source": [
    "def add(n1,n2,cb):\n",
    "    cb(n1+n2) #把顯示的工作交給call back function處理\n",
    "    \n",
    "def handle1(result):\n",
    "    print(\"結果為\",result)\n",
    "\n",
    "def handle2(result):\n",
    "    print(\"Result of Add is \",result)\n",
    "     \n",
    "add(3,4,handle1)"
   ]
  },
  {
   "cell_type": "code",
   "execution_count": 62,
   "id": "32b6b080",
   "metadata": {},
   "outputs": [
    {
     "name": "stdout",
     "output_type": "stream",
     "text": [
      "結果為 8\n"
     ]
    }
   ],
   "source": [
    "add(4,4,handle1)"
   ]
  },
  {
   "cell_type": "code",
   "execution_count": 63,
   "id": "82156e20",
   "metadata": {},
   "outputs": [
    {
     "name": "stdout",
     "output_type": "stream",
     "text": [
      "Result of Add is  8\n"
     ]
    }
   ],
   "source": [
    "add(4,4,handle2)"
   ]
  },
  {
   "cell_type": "markdown",
   "id": "cf7c0ee2",
   "metadata": {},
   "source": [
    "##  Decorator 裝飾器\n",
    "### 特殊設計的函示，用來{輔助}其他函式"
   ]
  },
  {
   "cell_type": "markdown",
   "id": "51740b37",
   "metadata": {},
   "source": [
    "## 基本裝飾器"
   ]
  },
  {
   "cell_type": "code",
   "execution_count": null,
   "id": "c48c6c1f",
   "metadata": {},
   "outputs": [],
   "source": [
    "# 定義裝飾器\n",
    "# def 裝飾器名稱(回呼函式名稱):\n",
    "#     def 內部函式名稱():\n",
    "#         #裝飾器內部程式碼\n",
    "#         回呼函式名稱()\n",
    "#     return 內部函式名稱"
   ]
  },
  {
   "cell_type": "code",
   "execution_count": null,
   "id": "f7c83185",
   "metadata": {},
   "outputs": [],
   "source": [
    "# 使用裝飾器\n",
    "# @裝飾器名稱\n",
    "# def 函式名稱():\n",
    "#     函式內部程式碼\n",
    "# 函式名稱 #呼叫帶有裝飾器的函式"
   ]
  },
  {
   "cell_type": "code",
   "execution_count": 65,
   "id": "624e48a8",
   "metadata": {},
   "outputs": [],
   "source": [
    "# 定義裝飾器\n",
    "def mydeco2(cb):\n",
    "    def run():\n",
    "        print(\"裝飾中內部函式code\")\n",
    "        cb()\n",
    "    return run #rerurn 內部函式"
   ]
  },
  {
   "cell_type": "code",
   "execution_count": 74,
   "id": "836725f3",
   "metadata": {},
   "outputs": [],
   "source": [
    "def test():\n",
    "    print(\"普通cb函式的code\")"
   ]
  },
  {
   "cell_type": "code",
   "execution_count": 69,
   "id": "6208abc9",
   "metadata": {},
   "outputs": [
    {
     "name": "stdout",
     "output_type": "stream",
     "text": [
      "普通cb函式的code\n"
     ]
    }
   ],
   "source": [
    "test()"
   ]
  },
  {
   "cell_type": "code",
   "execution_count": 84,
   "id": "2ff09c1a",
   "metadata": {},
   "outputs": [],
   "source": [
    "# 使用裝飾器,使之成為帶有裝飾器的函式\n",
    "@mydeco\n",
    "def test1():\n",
    "    print(\"普通cb函式的code,參數為:none\")"
   ]
  },
  {
   "cell_type": "code",
   "execution_count": 85,
   "id": "d559ac63",
   "metadata": {},
   "outputs": [
    {
     "name": "stdout",
     "output_type": "stream",
     "text": [
      "裝飾中內部函式code\n",
      "普通cb函式的code,參數為:none\n"
     ]
    }
   ],
   "source": [
    "test1()"
   ]
  },
  {
   "cell_type": "code",
   "execution_count": 95,
   "id": "c2c7a318",
   "metadata": {},
   "outputs": [],
   "source": [
    "# 定義裝飾器\n",
    "def mydeco2(cb):\n",
    "    def run():\n",
    "        print(\"裝飾中內部函式code\")\n",
    "        cb(505)\n",
    "    return run #rerurn 內部函式\n",
    "\n",
    "# 使用裝飾器,使之成為帶有裝飾器的函式\n",
    "@mydeco2\n",
    "def test2(n): \n",
    "    #帶有參數n的函式,但是參數給裝飾器內部的cb函數呼\n",
    "    print(\"普通cb函式的code,參數為:none\",n)"
   ]
  },
  {
   "cell_type": "code",
   "execution_count": 96,
   "id": "e8b14870",
   "metadata": {},
   "outputs": [
    {
     "name": "stdout",
     "output_type": "stream",
     "text": [
      "裝飾中內部函式code\n",
      "普通cb函式的code,參數為:none 505\n"
     ]
    }
   ],
   "source": [
    "test2()"
   ]
  },
  {
   "cell_type": "markdown",
   "id": "9402c4d9",
   "metadata": {},
   "source": [
    "## 簡單的裝飾器的應用\n",
    "呼叫帶有裝飾器的函式的時候，\n",
    "會先執行裝飾器想要做的的事情，然後接著在執行本來的函式(做事裝飾器的回呼函數)\n",
    "\n",
    "舉個例子，做一個裝飾器，做1+...50的總和\n"
   ]
  },
  {
   "cell_type": "code",
   "execution_count": 97,
   "id": "7721c21f",
   "metadata": {},
   "outputs": [],
   "source": [
    "def cal(callback):\n",
    "    def run():\n",
    "#         裝飾器想執行的事\n",
    "        result = 0\n",
    "        for n in range(51):\n",
    "            result+=n\n",
    "        print(result)\n",
    "        callback()\n",
    "    return run"
   ]
  },
  {
   "cell_type": "code",
   "execution_count": 98,
   "id": "ba79fb7a",
   "metadata": {},
   "outputs": [
    {
     "name": "stdout",
     "output_type": "stream",
     "text": [
      "1275\n",
      "普通函式的程式碼\n"
     ]
    }
   ],
   "source": [
    "@cal \n",
    "def show():\n",
    "    print(\"普通函式的程式碼\")\n",
    "show()\n",
    "#如此一來沒有運用參數，來達到使用裝飾器的優點"
   ]
  },
  {
   "cell_type": "code",
   "execution_count": 100,
   "id": "8c1baa34",
   "metadata": {},
   "outputs": [
    {
     "name": "stdout",
     "output_type": "stream",
     "text": [
      "普通函式的程式碼,計算結果: 1275\n"
     ]
    }
   ],
   "source": [
    "def cal2(callback):\n",
    "    def run():\n",
    "#         裝飾器想執行的事\n",
    "        result = 0\n",
    "        for n in range(51):\n",
    "            result+=n\n",
    "        callback(result) \n",
    "        #把result 傳給callback 函式(被裝飾的函式中)\n",
    "    return run\n",
    "\n",
    "@cal2 \n",
    "def show2(n):\n",
    "    print(\"1+...+n,計算結果:\", n)\n",
    "\n",
    "\n",
    "show2()"
   ]
  },
  {
   "cell_type": "markdown",
   "id": "5083738b",
   "metadata": {},
   "source": [
    "##  裝飾器到底想幹嘛\n",
    "定義兩種不同函式，重複利用裝飾器所謂計算的功能"
   ]
  },
  {
   "cell_type": "code",
   "execution_count": 107,
   "id": "8ebffe8f",
   "metadata": {},
   "outputs": [
    {
     "name": "stdout",
     "output_type": "stream",
     "text": [
      "普通函式的程式碼,計算結果: 1275\n",
      "Integer from 1 to 50 Add up to be: 1275\n"
     ]
    }
   ],
   "source": [
    "def cal2(callback):\n",
    "    def run():\n",
    "#  裝飾器想執行的事\n",
    "        result = 0\n",
    "        for n in range(51):\n",
    "            result+=n\n",
    "        callback(result) \n",
    "        #把result 傳給callback 函式(被裝飾的函式中)\n",
    "    return run\n",
    "\n",
    "@cal2 \n",
    "def showeng(n):\n",
    "    print(\"Integer from 1 to 50 Add up to be:\", n)\n",
    "\n",
    "\n",
    "show2()\n",
    "showeng()"
   ]
  },
  {
   "cell_type": "markdown",
   "id": "8169df68",
   "metadata": {},
   "source": [
    "## 裝飾器本身的參數，有點複雜"
   ]
  },
  {
   "cell_type": "markdown",
   "id": "596d7778",
   "metadata": {},
   "source": [
    "# Decorator Factory 裝飾器工廠\n",
    "\n",
    "## 生產裝飾器的函示\n"
   ]
  },
  {
   "cell_type": "code",
   "execution_count": 8,
   "id": "f8a05c8f",
   "metadata": {},
   "outputs": [],
   "source": [
    "# 定義裝飾器工廠\n",
    "\n",
    "#  def 裝飾器工廠名稱(參數名稱,...)\n",
    "#   def 裝飾器名稱(回呼函式名稱):\n",
    "#       def 內部函式名稱():\n",
    "#           #裝飾器內部程式碼\n",
    "#           回呼函式名稱()\n",
    "#       return 內部函式名稱\n",
    "#   return 裝飾器名稱\n",
    "\n",
    "\n",
    "\n",
    "#使用裝飾器工廠\n",
    "\n",
    "# @裝飾器工廠名稱(參數資料,..)\n",
    "#def 函式名稱():\n",
    "     #函式內部程式碼\n",
    "    \n",
    "# 函式名稱() #呼叫帶有裝飾器的函式"
   ]
  },
  {
   "cell_type": "code",
   "execution_count": 9,
   "id": "8060636f",
   "metadata": {},
   "outputs": [],
   "source": [
    "# 範例\n",
    "\n",
    "# def testFac(base,...)\n",
    "#   def testDec(callback):\n",
    "#       def innerFunc():\n",
    "#           print(\"裝士氣:\",base)#裝飾器內部程式碼\n",
    "#           callback()\n",
    "#       return innerFunc\n",
    "#   return testDec\n",
    "\n",
    "# @testFac(3)\n",
    "# def yyfunc():\n",
    "#     print(\"normal function text\")\n",
    "\n",
    "# yyfunc()\n"
   ]
  },
  {
   "cell_type": "code",
   "execution_count": 10,
   "id": "9bb97fe2",
   "metadata": {},
   "outputs": [],
   "source": [
    "# 讓裝飾器更有彈性,新增一個result參數\n",
    "# def testFac(base,...)\n",
    "#   def testDec(callback):\n",
    "#       def innerFunc():\n",
    "#           result=base*3\n",
    "#           callback(result)\n",
    "#       return innerFunc\n",
    "#   return testDec\n",
    "\n",
    "# @testFac(33)\n",
    "# def yyfunc():\n",
    "#     print(\"normal function text:\", result)\n",
    "\n",
    "# yyfunc()\n",
    "\n",
    "\n",
    "# 33傳到base 然後乘以三送到result再送到回呼函內，\n",
    "# 在印出普通函數內的result=99\n",
    "\n"
   ]
  },
  {
   "cell_type": "code",
   "execution_count": 11,
   "id": "50bc0c5a",
   "metadata": {},
   "outputs": [
    {
     "name": "stdout",
     "output_type": "stream",
     "text": [
      "inside dec text\n",
      "normal function text\n"
     ]
    }
   ],
   "source": [
    "# 複習裝飾器\n",
    "def myDec(cb):\n",
    "      def innerFunc():\n",
    "            print(\"inside dec text\")\n",
    "#             result=base*3\n",
    "            cb()\n",
    "      return innerFunc\n",
    "#   return testDec\n",
    "\n",
    "@myDec\n",
    "def test():\n",
    "    print(\"normal function text\")\n",
    "\n",
    "test()"
   ]
  },
  {
   "cell_type": "code",
   "execution_count": 12,
   "id": "bfa85d3a",
   "metadata": {},
   "outputs": [
    {
     "name": "stdout",
     "output_type": "stream",
     "text": [
      "inside dec text\n",
      "normal function text\n"
     ]
    }
   ],
   "source": [
    "# 生產裝飾器,定義工廠\n",
    "def myFact():\n",
    "    def myDec(cb):\n",
    "          def innerFunc():\n",
    "                print(\"inside dec text\")\n",
    "    #             result=base*3\n",
    "                cb()\n",
    "          return innerFunc\n",
    "    return myDec\n",
    "@myFact()\n",
    "def test():\n",
    "    print(\"normal function text\")\n",
    "\n",
    "test()"
   ]
  },
  {
   "cell_type": "markdown",
   "id": "6ac91835",
   "metadata": {},
   "source": [
    "# 裝飾器工廠可以接收額外參數\n"
   ]
  },
  {
   "cell_type": "code",
   "execution_count": 25,
   "id": "a94b4a3d",
   "metadata": {},
   "outputs": [
    {
     "name": "stdout",
     "output_type": "stream",
     "text": [
      "inside dec text 21\n",
      "normal function text 441\n"
     ]
    }
   ],
   "source": [
    "# 生產裝飾器,定義工廠`,使之接收額外參數\n",
    "def myFact(base):\n",
    "    def myDec(cb):\n",
    "          def innerFunc():\n",
    "                result=base**2\n",
    "                print(\"inside dec text\",base)\n",
    "                cb(result)\n",
    "          return innerFunc\n",
    "    return myDec\n",
    "\n",
    "@myFact(21)\n",
    "def test(result):\n",
    "    print(\"normal function text\",result)\n",
    "test()"
   ]
  },
  {
   "cell_type": "code",
   "execution_count": 50,
   "id": "c4e27416",
   "metadata": {},
   "outputs": [
    {
     "name": "stdout",
     "output_type": "stream",
     "text": [
      "1+...+max計算結果: 5050\n",
      "Integer from 1 to max Add up to be: 55\n"
     ]
    }
   ],
   "source": [
    "#我希望有時候可以計算1+..+50，有時候想特化1+...+max，\n",
    "#使之有彈性\n",
    "def calfactory(maxx):\n",
    "    def cal2(callback):\n",
    "        def run():    #裝飾器想執行的事\n",
    "            result = 0\n",
    "            for n in range(maxx+1): #使用到工廠參數\n",
    "                result+=n\n",
    "            callback(result) \n",
    "            #把result 傳給callback 函式(被裝飾的函式中)\n",
    "        return run # 要注意return內函數\n",
    "    return cal2# 要注意return裝飾器，而非工廠\n",
    "\n",
    "@calfactory(100)\n",
    "def show2(n):\n",
    "    print(\"1+...+max計算結果:\", n)\n",
    "    \n",
    "\n",
    "@calfactory(10)\n",
    "def showeng(n):\n",
    "    print(\"Integer from 1 to max Add up to be:\", n)\n",
    "\n",
    "show2()\n",
    "showeng()"
   ]
  }
 ],
 "metadata": {
  "kernelspec": {
   "display_name": "Python 3 (ipykernel)",
   "language": "python",
   "name": "python3"
  },
  "language_info": {
   "codemirror_mode": {
    "name": "ipython",
    "version": 3
   },
   "file_extension": ".py",
   "mimetype": "text/x-python",
   "name": "python",
   "nbconvert_exporter": "python",
   "pygments_lexer": "ipython3",
   "version": "3.9.12"
  }
 },
 "nbformat": 4,
 "nbformat_minor": 5
}
