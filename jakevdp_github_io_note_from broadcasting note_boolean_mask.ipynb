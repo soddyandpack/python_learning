{
 "cells": [
  {
   "cell_type": "code",
   "execution_count": 1,
   "id": "bc2315ee",
   "metadata": {},
   "outputs": [],
   "source": [
    "import pandas as pd\n",
    "import numpy as np\n"
   ]
  },
  {
   "cell_type": "code",
   "execution_count": 2,
   "id": "240ddfe5",
   "metadata": {},
   "outputs": [
    {
     "data": {
      "text/plain": [
       "'1.4.3'"
      ]
     },
     "execution_count": 2,
     "metadata": {},
     "output_type": "execute_result"
    }
   ],
   "source": [
    "pd.__version__"
   ]
  },
  {
   "cell_type": "markdown",
   "id": "23d47e2a",
   "metadata": {},
   "source": [
    "## Broadcasting example 1 "
   ]
  },
  {
   "cell_type": "code",
   "execution_count": 3,
   "id": "4795fb21",
   "metadata": {},
   "outputs": [],
   "source": [
    "M = np.ones((2, 3))\n",
    "a = np.arange(3)"
   ]
  },
  {
   "cell_type": "code",
   "execution_count": 4,
   "id": "fa6fd9ac",
   "metadata": {},
   "outputs": [
    {
     "data": {
      "text/plain": [
       "(2, 3)"
      ]
     },
     "execution_count": 4,
     "metadata": {},
     "output_type": "execute_result"
    }
   ],
   "source": [
    "M.shape"
   ]
  },
  {
   "cell_type": "markdown",
   "id": "4be844ba",
   "metadata": {},
   "source": [
    "\n",
    "## We see by rule 1 that the array a has fewer dimensions, so we pad it on the left with ones:\n",
    "## By rule 2, we now see that the first dimension disagrees, so we stretch this dimension to match:"
   ]
  },
  {
   "cell_type": "code",
   "execution_count": 5,
   "id": "d72ac40b",
   "metadata": {},
   "outputs": [
    {
     "data": {
      "text/plain": [
       "(3,)"
      ]
     },
     "execution_count": 5,
     "metadata": {},
     "output_type": "execute_result"
    }
   ],
   "source": [
    "a.shape "
   ]
  },
  {
   "cell_type": "code",
   "execution_count": 6,
   "id": "823cc4ce",
   "metadata": {},
   "outputs": [
    {
     "name": "stdout",
     "output_type": "stream",
     "text": [
      "M =[[1. 1. 1.]\n",
      " [1. 1. 1.]]  , \n",
      "\n",
      "\n",
      "  a=[0 1 2]\n"
     ]
    }
   ],
   "source": [
    "print(\"M ={}  , \\n\\n\\n  a={}\".format(M,a))"
   ]
  },
  {
   "cell_type": "code",
   "execution_count": 7,
   "id": "c49ab0b8",
   "metadata": {},
   "outputs": [
    {
     "data": {
      "text/plain": [
       "array([[1., 2., 3.],\n",
       "       [1., 2., 3.]])"
      ]
     },
     "execution_count": 7,
     "metadata": {},
     "output_type": "execute_result"
    }
   ],
   "source": [
    "M + a"
   ]
  },
  {
   "cell_type": "markdown",
   "id": "8baa1710",
   "metadata": {},
   "source": [
    "## Broadcasting example 2"
   ]
  },
  {
   "cell_type": "code",
   "execution_count": 8,
   "id": "1ac7ef18",
   "metadata": {},
   "outputs": [],
   "source": [
    "a = np.arange(3).reshape((3, 1))\n",
    "b = np.arange(3)"
   ]
  },
  {
   "cell_type": "code",
   "execution_count": 9,
   "id": "41841fa6",
   "metadata": {},
   "outputs": [
    {
     "name": "stdout",
     "output_type": "stream",
     "text": [
      "a =[[0]\n",
      " [1]\n",
      " [2]]  , \n",
      "\n",
      "\n",
      "  b=[0 1 2]\n"
     ]
    }
   ],
   "source": [
    "print(\"a ={}  , \\n\\n\\n  b={}\".format(a,b))"
   ]
  },
  {
   "cell_type": "code",
   "execution_count": 10,
   "id": "16bbcdf6",
   "metadata": {},
   "outputs": [
    {
     "data": {
      "text/plain": [
       "(3, 1)"
      ]
     },
     "execution_count": 10,
     "metadata": {},
     "output_type": "execute_result"
    }
   ],
   "source": [
    "a.shape"
   ]
  },
  {
   "cell_type": "code",
   "execution_count": 11,
   "id": "704bd598",
   "metadata": {},
   "outputs": [
    {
     "data": {
      "text/plain": [
       "(3,)"
      ]
     },
     "execution_count": 11,
     "metadata": {},
     "output_type": "execute_result"
    }
   ],
   "source": [
    "b.shape"
   ]
  },
  {
   "cell_type": "code",
   "execution_count": 12,
   "id": "3d02ac64",
   "metadata": {},
   "outputs": [],
   "source": [
    "# Rule 1 says we must pad the shape of b with ones:\n",
    "# And rule 2 tells us that we upgrade each of these ones \n",
    "# to match the corresponding size of the other array"
   ]
  },
  {
   "cell_type": "code",
   "execution_count": 13,
   "id": "d0ed71c8",
   "metadata": {},
   "outputs": [
    {
     "data": {
      "text/plain": [
       "array([[0, 1, 2],\n",
       "       [1, 2, 3],\n",
       "       [2, 3, 4]])"
      ]
     },
     "execution_count": 13,
     "metadata": {},
     "output_type": "execute_result"
    }
   ],
   "source": [
    "a + b"
   ]
  },
  {
   "cell_type": "markdown",
   "id": "57a82771",
   "metadata": {},
   "source": [
    "## Broadcasting example 3"
   ]
  },
  {
   "cell_type": "code",
   "execution_count": 14,
   "id": "09e9aea6",
   "metadata": {},
   "outputs": [],
   "source": [
    "M = np.ones((3, 2))\n",
    "a = np.arange(3)"
   ]
  },
  {
   "cell_type": "code",
   "execution_count": 15,
   "id": "b5d2f6bd",
   "metadata": {},
   "outputs": [
    {
     "name": "stdout",
     "output_type": "stream",
     "text": [
      "M =[[1. 1.]\n",
      " [1. 1.]\n",
      " [1. 1.]]  , \n",
      "\n",
      "\n",
      "  a=[0 1 2]\n"
     ]
    }
   ],
   "source": [
    "print(\"M ={}  , \\n\\n\\n  a={}\".format(M,a))"
   ]
  },
  {
   "cell_type": "code",
   "execution_count": 16,
   "id": "f861fc0b",
   "metadata": {},
   "outputs": [
    {
     "name": "stdout",
     "output_type": "stream",
     "text": [
      "M.shpae =(3, 2)  , \n",
      "\n",
      "\n",
      "  a.shape=(3,)\n"
     ]
    }
   ],
   "source": [
    "print(\"M.shpae ={}  , \\n\\n\\n  a.shape={}\".format(M.shape,a.shape))"
   ]
  },
  {
   "cell_type": "code",
   "execution_count": 17,
   "id": "663bb5e8",
   "metadata": {},
   "outputs": [],
   "source": [
    "# # M+a\n",
    "# ---------------------------------------------------------------------------\n",
    "# ValueError                                Traceback (most recent call last)\n",
    "# Input In [17], in <cell line: 1>()\n",
    "# ----> 1 M+a\n",
    "\n",
    "# ValueError: operands could not be broadcast together with shapes (3,2) (3,) "
   ]
  },
  {
   "cell_type": "markdown",
   "id": "f4a5ca86",
   "metadata": {},
   "source": [
    "## Note the potential confusion here: \n",
    "you could imagine making a and M compatible by, say, padding a's shape with ones on the right rather than the left. But this is not how the broadcasting rules work!"
   ]
  },
  {
   "cell_type": "markdown",
   "id": "1af031b5",
   "metadata": {},
   "source": [
    "## If right-side padding is what you'd like, \n",
    "  you can do this explicitly by reshaping the array \n",
    "  (we'll use the np.newaxis keyword"
   ]
  },
  {
   "cell_type": "code",
   "execution_count": 18,
   "id": "e2843dcf",
   "metadata": {},
   "outputs": [
    {
     "data": {
      "text/plain": [
       "(3, 1)"
      ]
     },
     "execution_count": 18,
     "metadata": {},
     "output_type": "execute_result"
    }
   ],
   "source": [
    "a[:, np.newaxis].shape"
   ]
  },
  {
   "cell_type": "code",
   "execution_count": 19,
   "id": "90ce66c0",
   "metadata": {},
   "outputs": [
    {
     "name": "stdout",
     "output_type": "stream",
     "text": [
      "M=[[1. 1.]\n",
      " [1. 1.]\n",
      " [1. 1.]]  , \n",
      "\n",
      "\n",
      "  a=[0 1 2]\n"
     ]
    }
   ],
   "source": [
    "print(\"M={}  , \\n\\n\\n  a={}\".format(M,a))"
   ]
  },
  {
   "cell_type": "code",
   "execution_count": 20,
   "id": "2b594919",
   "metadata": {},
   "outputs": [
    {
     "name": "stdout",
     "output_type": "stream",
     "text": [
      "M.shpae =(3, 2)  , \n",
      "\n",
      "\n",
      "  a.shape=(3,)\n"
     ]
    }
   ],
   "source": [
    "print(\"M.shpae ={}  , \\n\\n\\n  a.shape={}\".format(M.shape,a.shape))"
   ]
  },
  {
   "cell_type": "code",
   "execution_count": 21,
   "id": "160926fb",
   "metadata": {},
   "outputs": [
    {
     "data": {
      "text/plain": [
       "array([[1., 1.],\n",
       "       [2., 2.],\n",
       "       [3., 3.]])"
      ]
     },
     "execution_count": 21,
     "metadata": {},
     "output_type": "execute_result"
    }
   ],
   "source": [
    "M + a[:, np.newaxis]"
   ]
  },
  {
   "cell_type": "markdown",
   "id": "c863faab",
   "metadata": {},
   "source": [
    "these broadcasting rules apply to any binary ufunc. For example, here is the logaddexp(a, b) function, which computes log(exp(a) + exp(b)) with more precision than the naive approach:"
   ]
  },
  {
   "cell_type": "code",
   "execution_count": 22,
   "id": "70fd7dcb",
   "metadata": {},
   "outputs": [
    {
     "data": {
      "text/plain": [
       "array([[1.31326169, 1.31326169],\n",
       "       [1.69314718, 1.69314718],\n",
       "       [2.31326169, 2.31326169]])"
      ]
     },
     "execution_count": 22,
     "metadata": {},
     "output_type": "execute_result"
    }
   ],
   "source": [
    "np.logaddexp(M, a[:, np.newaxis])"
   ]
  },
  {
   "cell_type": "markdown",
   "id": "83bd0656",
   "metadata": {},
   "source": [
    "## Broadcasting in Practice  Broadcasting 實務"
   ]
  },
  {
   "cell_type": "code",
   "execution_count": 23,
   "id": "37167b91",
   "metadata": {},
   "outputs": [],
   "source": [
    "X = np.random.random((10, 3))"
   ]
  },
  {
   "cell_type": "code",
   "execution_count": 24,
   "id": "58e8b71c",
   "metadata": {},
   "outputs": [
    {
     "data": {
      "text/plain": [
       "array([0.54534129, 0.43589087, 0.58643973])"
      ]
     },
     "execution_count": 24,
     "metadata": {},
     "output_type": "execute_result"
    }
   ],
   "source": [
    "# We can compute the mean of each feature using the mean aggregate across the first dimension:\n",
    "Xmean = X.mean(axis= 0)\n",
    "Xmean"
   ]
  },
  {
   "cell_type": "code",
   "execution_count": 25,
   "id": "94e7f16b",
   "metadata": {},
   "outputs": [],
   "source": [
    "# And now we can center the X array by subtracting the mean (this is a broadcasting operation):\n",
    "X_centered = X - Xmean"
   ]
  },
  {
   "cell_type": "code",
   "execution_count": 26,
   "id": "74cb9fe5",
   "metadata": {},
   "outputs": [
    {
     "data": {
      "text/plain": [
       "array([-6.66133815e-17,  3.33066907e-17, -8.88178420e-17])"
      ]
     },
     "execution_count": 26,
     "metadata": {},
     "output_type": "execute_result"
    }
   ],
   "source": [
    "# To within machine precision, the mean is now zero. 每欄位的離均差總和=0\n",
    "X_centered.mean(axis=0)"
   ]
  },
  {
   "cell_type": "code",
   "execution_count": 27,
   "id": "1a4d642f",
   "metadata": {},
   "outputs": [],
   "source": [
    "x = np.array([1, 2, 3, 4, 5])"
   ]
  },
  {
   "cell_type": "code",
   "execution_count": 28,
   "id": "2eecaa63",
   "metadata": {},
   "outputs": [],
   "source": [
    "# 透過Ufuncs對向量化運算，幾乎總是比使用python內建loop來的有效率，尤其是當陣列成長到更大時。 分為unary binary兩種方式。\n",
    "x=np.arange(5)\n",
    "y=np.empty(5)"
   ]
  },
  {
   "cell_type": "code",
   "execution_count": 29,
   "id": "38a0baaa",
   "metadata": {},
   "outputs": [
    {
     "data": {
      "text/plain": [
       "array([ 0., 10., 20., 30., 40.])"
      ]
     },
     "execution_count": 29,
     "metadata": {},
     "output_type": "execute_result"
    }
   ],
   "source": [
    "np.multiply(x,10, out= y)  #對於大量計算，有時指定計算結果直接在已建立的記憶體位置上寫入，可以使用out參數來做，增加效率"
   ]
  },
  {
   "cell_type": "code",
   "execution_count": 30,
   "id": "96fb5738",
   "metadata": {},
   "outputs": [
    {
     "data": {
      "text/plain": [
       "array([0., 0., 0., 0., 0., 0., 0., 0., 0., 0.])"
      ]
     },
     "execution_count": 30,
     "metadata": {},
     "output_type": "execute_result"
    }
   ],
   "source": [
    "y=np.zeros(10)\n",
    "y"
   ]
  },
  {
   "cell_type": "code",
   "execution_count": 31,
   "id": "1298455b",
   "metadata": {},
   "outputs": [
    {
     "data": {
      "text/plain": [
       "array([ 1.,  2.,  4.,  8., 16.])"
      ]
     },
     "execution_count": 31,
     "metadata": {},
     "output_type": "execute_result"
    }
   ],
   "source": [
    "np.power(2,x,out=y[::2])  \n",
    "#把結果寫入某個指定陣列，以每隔固定間隔的方式放置。\n",
    "# 比 y[::2]=2**x 省下建立一個暫時性的陣列"
   ]
  },
  {
   "cell_type": "code",
   "execution_count": 32,
   "id": "2d7991c9",
   "metadata": {},
   "outputs": [
    {
     "data": {
      "text/plain": [
       "array([ 1.,  0.,  2.,  0.,  4.,  0.,  8.,  0., 16.,  0.])"
      ]
     },
     "execution_count": 32,
     "metadata": {},
     "output_type": "execute_result"
    }
   ],
   "source": [
    "y "
   ]
  },
  {
   "cell_type": "code",
   "execution_count": 33,
   "id": "646e7d64",
   "metadata": {},
   "outputs": [
    {
     "name": "stdout",
     "output_type": "stream",
     "text": [
      "[[ 1  2  3  4  5  6  7  8  9]\n",
      " [ 2  4  6  8 10 12 14 16 18]\n",
      " [ 3  6  9 12 15 18 21 24 27]\n",
      " [ 4  8 12 16 20 24 28 32 36]\n",
      " [ 5 10 15 20 25 30 35 40 45]\n",
      " [ 6 12 18 24 30 36 42 48 54]\n",
      " [ 7 14 21 28 35 42 49 56 63]\n",
      " [ 8 16 24 32 40 48 56 64 72]\n",
      " [ 9 18 27 36 45 54 63 72 81]]\n"
     ]
    }
   ],
   "source": [
    "# 利用broadcasting 製作九九乘法表\n",
    "a1=np.arange(1,10).reshape(1,9)\n",
    "a2=np.arange(1,10).reshape(9,1)\n",
    "a1*a2\n",
    "print(a1*a2)"
   ]
  },
  {
   "cell_type": "markdown",
   "id": "16cda32a",
   "metadata": {},
   "source": [
    "## 聚合:\n",
    "\n",
    "對於binary ufuncs，若打算使用特定的運算重複，應用到陣列中的每一個元素，直到剩下一個結果為止"
   ]
  },
  {
   "cell_type": "code",
   "execution_count": 34,
   "id": "c53cebcc",
   "metadata": {},
   "outputs": [],
   "source": [
    "x = np.arange(1,6)"
   ]
  },
  {
   "cell_type": "code",
   "execution_count": 35,
   "id": "3d6c4915",
   "metadata": {},
   "outputs": [
    {
     "data": {
      "text/plain": [
       "15"
      ]
     },
     "execution_count": 35,
     "metadata": {},
     "output_type": "execute_result"
    }
   ],
   "source": [
    "np.add.reduce(x)# 1+...+5"
   ]
  },
  {
   "cell_type": "code",
   "execution_count": 36,
   "id": "6bc45ab7",
   "metadata": {},
   "outputs": [
    {
     "data": {
      "text/plain": [
       "120"
      ]
     },
     "execution_count": 36,
     "metadata": {},
     "output_type": "execute_result"
    }
   ],
   "source": [
    "np.multiply.reduce(x) # 5!=1*..*5"
   ]
  },
  {
   "cell_type": "code",
   "execution_count": 37,
   "id": "2ea8cc33",
   "metadata": {},
   "outputs": [
    {
     "data": {
      "text/plain": [
       "array([ 1,  3,  6, 10, 15], dtype=int16)"
      ]
     },
     "execution_count": 37,
     "metadata": {},
     "output_type": "execute_result"
    }
   ],
   "source": [
    "np.add.accumulate(x,dtype='int16')"
   ]
  },
  {
   "cell_type": "markdown",
   "id": "a9c1ca1e",
   "metadata": {},
   "source": [
    "## One place that broadcasting is very useful is in displaying images \n",
    "based on two-dimensional functions. If we want to define a function $z = f(x, y)$, broadcasting can be used to compute the function across the grid"
   ]
  },
  {
   "cell_type": "code",
   "execution_count": 38,
   "id": "720a83cb",
   "metadata": {},
   "outputs": [],
   "source": [
    "# x and y have 50 steps from 0 to 5\n",
    "x = np.linspace(0, 5, 50)\n",
    "y = np.linspace(0, 5, 50)[:, np.newaxis]\n",
    "\n",
    "z = np.sin(x) ** 10 + np.cos(10 + y * x) * np.cos(x)"
   ]
  },
  {
   "cell_type": "code",
   "execution_count": 39,
   "id": "c7151f5d",
   "metadata": {
    "scrolled": true
   },
   "outputs": [
    {
     "data": {
      "image/png": "[encoded data removed]",
      "text/plain": [
       "<Figure size 432x288 with 2 Axes>"
      ]
     },
     "metadata": {
      "needs_background": "light"
     },
     "output_type": "display_data"
    }
   ],
   "source": [
    "import matplotlib.pyplot as plt\n",
    "plt.imshow(z, origin='lower', extent=[0, 5, 0, 5],\n",
    "           cmap='viridis')\n",
    "plt.colorbar();"
   ]
  },
  {
   "cell_type": "markdown",
   "id": "1d4b73e4",
   "metadata": {},
   "source": [
    "# Comparisons, Masks, and Boolean Logic\n",
    "   比較、遮罩、以及布林邏輯"
   ]
  },
  {
   "cell_type": "code",
   "execution_count": 40,
   "id": "e2af2147",
   "metadata": {
    "scrolled": true
   },
   "outputs": [
    {
     "data": {
      "text/plain": [
       "(365,)"
      ]
     },
     "execution_count": 40,
     "metadata": {},
     "output_type": "execute_result"
    }
   ],
   "source": [
    "import numpy as np\n",
    "import pandas as pd\n",
    "\n",
    "# use pandas to extract rainfall inches as a NumPy array\n",
    "df = pd.read_csv('./Seattle2014.csv')\n",
    "rainfall = pd.read_csv('./Seattle2014.csv')['PRCP'].values\n",
    "inches = rainfall / 254.0  # 1/10mm -> inches     1英吋值乘以25.4= 1 mm\n",
    "inches.shape\n",
    "# The inches array contains 365 values, giving daily rainfall in inches from January 1 to December 31, 2014.\n"
   ]
  },
  {
   "cell_type": "code",
   "execution_count": 41,
   "id": "536ce481",
   "metadata": {
    "scrolled": true
   },
   "outputs": [
    {
     "data": {
      "text/html": [
       "<div>\n",
       "<style scoped>\n",
       "    .dataframe tbody tr th:only-of-type {\n",
       "        vertical-align: middle;\n",
       "    }\n",
       "\n",
       "    .dataframe tbody tr th {\n",
       "        vertical-align: top;\n",
       "    }\n",
       "\n",
       "    .dataframe thead th {\n",
       "        text-align: right;\n",
       "    }\n",
       "</style>\n",
       "<table border=\"1\" class=\"dataframe\">\n",
       "  <thead>\n",
       "    <tr style=\"text-align: right;\">\n",
       "      <th></th>\n",
       "      <th>STATION</th>\n",
       "      <th>STATION_NAME</th>\n",
       "      <th>DATE</th>\n",
       "      <th>PRCP</th>\n",
       "      <th>SNWD</th>\n",
       "      <th>SNOW</th>\n",
       "      <th>TMAX</th>\n",
       "      <th>TMIN</th>\n",
       "      <th>AWND</th>\n",
       "      <th>WDF2</th>\n",
       "      <th>WDF5</th>\n",
       "      <th>WSF2</th>\n",
       "      <th>WSF5</th>\n",
       "      <th>WT01</th>\n",
       "      <th>WT05</th>\n",
       "      <th>WT02</th>\n",
       "      <th>WT03</th>\n",
       "    </tr>\n",
       "  </thead>\n",
       "  <tbody>\n",
       "    <tr>\n",
       "      <th>0</th>\n",
       "      <td>GHCND:USW00024233</td>\n",
       "      <td>SEATTLE TACOMA INTERNATIONAL AIRPORT WA US</td>\n",
       "      <td>20140101</td>\n",
       "      <td>0</td>\n",
       "      <td>0</td>\n",
       "      <td>0</td>\n",
       "      <td>72</td>\n",
       "      <td>33</td>\n",
       "      <td>12</td>\n",
       "      <td>340</td>\n",
       "      <td>310</td>\n",
       "      <td>36</td>\n",
       "      <td>40</td>\n",
       "      <td>-9999</td>\n",
       "      <td>-9999</td>\n",
       "      <td>-9999</td>\n",
       "      <td>-9999</td>\n",
       "    </tr>\n",
       "    <tr>\n",
       "      <th>1</th>\n",
       "      <td>GHCND:USW00024233</td>\n",
       "      <td>SEATTLE TACOMA INTERNATIONAL AIRPORT WA US</td>\n",
       "      <td>20140102</td>\n",
       "      <td>41</td>\n",
       "      <td>0</td>\n",
       "      <td>0</td>\n",
       "      <td>106</td>\n",
       "      <td>61</td>\n",
       "      <td>32</td>\n",
       "      <td>190</td>\n",
       "      <td>200</td>\n",
       "      <td>94</td>\n",
       "      <td>116</td>\n",
       "      <td>-9999</td>\n",
       "      <td>-9999</td>\n",
       "      <td>-9999</td>\n",
       "      <td>-9999</td>\n",
       "    </tr>\n",
       "    <tr>\n",
       "      <th>2</th>\n",
       "      <td>GHCND:USW00024233</td>\n",
       "      <td>SEATTLE TACOMA INTERNATIONAL AIRPORT WA US</td>\n",
       "      <td>20140103</td>\n",
       "      <td>15</td>\n",
       "      <td>0</td>\n",
       "      <td>0</td>\n",
       "      <td>89</td>\n",
       "      <td>28</td>\n",
       "      <td>26</td>\n",
       "      <td>30</td>\n",
       "      <td>50</td>\n",
       "      <td>63</td>\n",
       "      <td>72</td>\n",
       "      <td>1</td>\n",
       "      <td>-9999</td>\n",
       "      <td>-9999</td>\n",
       "      <td>-9999</td>\n",
       "    </tr>\n",
       "    <tr>\n",
       "      <th>3</th>\n",
       "      <td>GHCND:USW00024233</td>\n",
       "      <td>SEATTLE TACOMA INTERNATIONAL AIRPORT WA US</td>\n",
       "      <td>20140104</td>\n",
       "      <td>0</td>\n",
       "      <td>0</td>\n",
       "      <td>0</td>\n",
       "      <td>78</td>\n",
       "      <td>6</td>\n",
       "      <td>27</td>\n",
       "      <td>40</td>\n",
       "      <td>40</td>\n",
       "      <td>45</td>\n",
       "      <td>58</td>\n",
       "      <td>1</td>\n",
       "      <td>-9999</td>\n",
       "      <td>-9999</td>\n",
       "      <td>-9999</td>\n",
       "    </tr>\n",
       "    <tr>\n",
       "      <th>4</th>\n",
       "      <td>GHCND:USW00024233</td>\n",
       "      <td>SEATTLE TACOMA INTERNATIONAL AIRPORT WA US</td>\n",
       "      <td>20140105</td>\n",
       "      <td>0</td>\n",
       "      <td>0</td>\n",
       "      <td>0</td>\n",
       "      <td>83</td>\n",
       "      <td>-5</td>\n",
       "      <td>37</td>\n",
       "      <td>10</td>\n",
       "      <td>10</td>\n",
       "      <td>67</td>\n",
       "      <td>76</td>\n",
       "      <td>-9999</td>\n",
       "      <td>-9999</td>\n",
       "      <td>-9999</td>\n",
       "      <td>-9999</td>\n",
       "    </tr>\n",
       "  </tbody>\n",
       "</table>\n",
       "</div>"
      ],
      "text/plain": [
       "             STATION                                STATION_NAME      DATE  \\\n",
       "0  GHCND:USW00024233  SEATTLE TACOMA INTERNATIONAL AIRPORT WA US  20140101   \n",
       "1  GHCND:USW00024233  SEATTLE TACOMA INTERNATIONAL AIRPORT WA US  20140102   \n",
       "2  GHCND:USW00024233  SEATTLE TACOMA INTERNATIONAL AIRPORT WA US  20140103   \n",
       "3  GHCND:USW00024233  SEATTLE TACOMA INTERNATIONAL AIRPORT WA US  20140104   \n",
       "4  GHCND:USW00024233  SEATTLE TACOMA INTERNATIONAL AIRPORT WA US  20140105   \n",
       "\n",
       "   PRCP  SNWD  SNOW  TMAX  TMIN  AWND  WDF2  WDF5  WSF2  WSF5  WT01  WT05  \\\n",
       "0     0     0     0    72    33    12   340   310    36    40 -9999 -9999   \n",
       "1    41     0     0   106    61    32   190   200    94   116 -9999 -9999   \n",
       "2    15     0     0    89    28    26    30    50    63    72     1 -9999   \n",
       "3     0     0     0    78     6    27    40    40    45    58     1 -9999   \n",
       "4     0     0     0    83    -5    37    10    10    67    76 -9999 -9999   \n",
       "\n",
       "   WT02  WT03  \n",
       "0 -9999 -9999  \n",
       "1 -9999 -9999  \n",
       "2 -9999 -9999  \n",
       "3 -9999 -9999  \n",
       "4 -9999 -9999  "
      ]
     },
     "execution_count": 41,
     "metadata": {},
     "output_type": "execute_result"
    }
   ],
   "source": [
    "df.head(5)"
   ]
  },
  {
   "cell_type": "code",
   "execution_count": 42,
   "id": "4ee90f78",
   "metadata": {},
   "outputs": [],
   "source": [
    "df[\"PRCP\"].values;"
   ]
  },
  {
   "cell_type": "code",
   "execution_count": 43,
   "id": "a21b3b98",
   "metadata": {},
   "outputs": [],
   "source": [
    "import matplotlib.pyplot as plt\n",
    "import seaborn; seaborn.set()  # set plot styles"
   ]
  },
  {
   "cell_type": "code",
   "execution_count": 44,
   "id": "c306e423",
   "metadata": {},
   "outputs": [
    {
     "data": {
      "image/png": "[encoded data removed]",
      "text/plain": [
       "<Figure size 432x288 with 1 Axes>"
      ]
     },
     "metadata": {},
     "output_type": "display_data"
    }
   ],
   "source": [
    "plt.hist(inches, 40);"
   ]
  },
  {
   "cell_type": "markdown",
   "id": "ce401f2a",
   "metadata": {},
   "source": [
    "## 上圖法傳遞出更具體的資訊:這一年有多少個下雨天?下雨天的平均降雨量?多少天降雨量超過半英吋?\n",
    "## 所以我們需要做深入挖掘資料Digging into the data ，接下來跳脫資料，討論Numpy中的遮罩來快速回答這一類問題"
   ]
  },
  {
   "cell_type": "markdown",
   "id": "a66ed57f",
   "metadata": {},
   "source": [
    "## 比較運算子-使用布林陣列-布林運算子-布林陣列當遮罩"
   ]
  },
  {
   "cell_type": "code",
   "execution_count": 45,
   "id": "cd3af484",
   "metadata": {},
   "outputs": [],
   "source": [
    "import numpy as np\n",
    "import pandas as pd\n",
    "import matplotlib.pyplot as plt\n",
    "import seaborn ;\n",
    "seaborn.set()"
   ]
  },
  {
   "cell_type": "code",
   "execution_count": 46,
   "id": "6535489a",
   "metadata": {},
   "outputs": [],
   "source": [
    "x=np.arange(1,10)"
   ]
  },
  {
   "cell_type": "code",
   "execution_count": 47,
   "id": "24152282",
   "metadata": {},
   "outputs": [
    {
     "data": {
      "text/plain": [
       "array([False,  True, False, False, False, False, False, False, False])"
      ]
     },
     "execution_count": 47,
     "metadata": {},
     "output_type": "execute_result"
    }
   ],
   "source": [
    "(2 * x) == (x ** 2)"
   ]
  },
  {
   "cell_type": "code",
   "execution_count": 48,
   "id": "243780ee",
   "metadata": {},
   "outputs": [
    {
     "data": {
      "text/plain": [
       "array([ True,  True, False, False, False, False, False, False, False])"
      ]
     },
     "execution_count": 48,
     "metadata": {},
     "output_type": "execute_result"
    }
   ],
   "source": [
    "np.less(x,3) #等價x<3"
   ]
  },
  {
   "cell_type": "code",
   "execution_count": 49,
   "id": "e004e5ef",
   "metadata": {},
   "outputs": [
    {
     "data": {
      "text/plain": [
       "array([ True,  True, False, False, False, False, False, False, False])"
      ]
     },
     "execution_count": 49,
     "metadata": {},
     "output_type": "execute_result"
    }
   ],
   "source": [
    "x<3"
   ]
  },
  {
   "cell_type": "code",
   "execution_count": 50,
   "id": "19add22c",
   "metadata": {},
   "outputs": [
    {
     "data": {
      "text/plain": [
       "array([ True,  True,  True, False, False, False, False, False, False])"
      ]
     },
     "execution_count": 50,
     "metadata": {},
     "output_type": "execute_result"
    }
   ],
   "source": [
    "np.less_equal(x,3)"
   ]
  },
  {
   "cell_type": "code",
   "execution_count": 51,
   "id": "4bd7374c",
   "metadata": {},
   "outputs": [
    {
     "data": {
      "text/plain": [
       "array([False, False,  True, False, False, False, False, False, False])"
      ]
     },
     "execution_count": 51,
     "metadata": {},
     "output_type": "execute_result"
    }
   ],
   "source": [
    "np.equal(x,3)"
   ]
  },
  {
   "cell_type": "code",
   "execution_count": 52,
   "id": "9a24a87e",
   "metadata": {},
   "outputs": [
    {
     "data": {
      "text/plain": [
       "array([ True,  True, False,  True,  True,  True,  True,  True,  True])"
      ]
     },
     "execution_count": 52,
     "metadata": {},
     "output_type": "execute_result"
    }
   ],
   "source": [
    "np.not_equal(x,3)"
   ]
  },
  {
   "cell_type": "code",
   "execution_count": 53,
   "id": "bdaffe35",
   "metadata": {},
   "outputs": [
    {
     "data": {
      "text/plain": [
       "array([False, False, False,  True,  True,  True,  True,  True,  True])"
      ]
     },
     "execution_count": 53,
     "metadata": {},
     "output_type": "execute_result"
    }
   ],
   "source": [
    "np.greater(x,3)"
   ]
  },
  {
   "cell_type": "code",
   "execution_count": 54,
   "id": "114fedad",
   "metadata": {},
   "outputs": [
    {
     "data": {
      "text/plain": [
       "array([False, False,  True,  True,  True,  True,  True,  True,  True])"
      ]
     },
     "execution_count": 54,
     "metadata": {},
     "output_type": "execute_result"
    }
   ],
   "source": [
    "np.greater_equal(x,3)"
   ]
  },
  {
   "cell_type": "code",
   "execution_count": 55,
   "id": "13b25c09",
   "metadata": {},
   "outputs": [
    {
     "data": {
      "text/plain": [
       "array([[5, 0, 3, 3],\n",
       "       [7, 9, 3, 5],\n",
       "       [2, 4, 7, 6]])"
      ]
     },
     "execution_count": 55,
     "metadata": {},
     "output_type": "execute_result"
    }
   ],
   "source": [
    "rng = np.random.RandomState(0)\n",
    "x=rng.randint(0,10,size=(3,4))\n",
    "x\n",
    "# 方式等價於\n",
    "# np.random.seed(0)\n",
    "# np.random.randint(0,10,size=(3,4))"
   ]
  },
  {
   "cell_type": "code",
   "execution_count": 56,
   "id": "f64b70fb",
   "metadata": {},
   "outputs": [
    {
     "data": {
      "text/plain": [
       "array([[ True,  True,  True,  True],\n",
       "       [False, False,  True,  True],\n",
       "       [ True,  True, False, False]])"
      ]
     },
     "execution_count": 56,
     "metadata": {},
     "output_type": "execute_result"
    }
   ],
   "source": [
    "x<6"
   ]
  },
  {
   "cell_type": "code",
   "execution_count": 57,
   "id": "5600e5c6",
   "metadata": {},
   "outputs": [
    {
     "data": {
      "text/plain": [
       "8"
      ]
     },
     "execution_count": 57,
     "metadata": {},
     "output_type": "execute_result"
    }
   ],
   "source": [
    "np.count_nonzero(x<6)"
   ]
  },
  {
   "cell_type": "code",
   "execution_count": 58,
   "id": "73d18dbe",
   "metadata": {},
   "outputs": [
    {
     "data": {
      "text/plain": [
       "array([[4],\n",
       "       [2],\n",
       "       [2]])"
      ]
     },
     "execution_count": 58,
     "metadata": {},
     "output_type": "execute_result"
    }
   ],
   "source": [
    "np.sum(x<6, axis = 1).reshape(3,1) \n",
    "#方式比count_nonzero好的原因 :可以設定 axis=1 計算每一列有多少個數小於6"
   ]
  },
  {
   "cell_type": "code",
   "execution_count": 59,
   "id": "98816bc1",
   "metadata": {},
   "outputs": [],
   "source": [
    "# 快速檢查是否  陣列中所有數值皆True / False\n",
    "# 快速檢查是否  陣列中存在一個數值皆True / False"
   ]
  },
  {
   "cell_type": "code",
   "execution_count": 60,
   "id": "bf2c908c",
   "metadata": {},
   "outputs": [
    {
     "data": {
      "text/plain": [
       "array([[5, 0, 3, 3],\n",
       "       [7, 9, 3, 5],\n",
       "       [2, 4, 7, 6]])"
      ]
     },
     "execution_count": 60,
     "metadata": {},
     "output_type": "execute_result"
    }
   ],
   "source": [
    "x"
   ]
  },
  {
   "cell_type": "code",
   "execution_count": 61,
   "id": "c03df684",
   "metadata": {},
   "outputs": [
    {
     "data": {
      "text/plain": [
       "False"
      ]
     },
     "execution_count": 61,
     "metadata": {},
     "output_type": "execute_result"
    }
   ],
   "source": [
    "np.all(x>8)"
   ]
  },
  {
   "cell_type": "code",
   "execution_count": 62,
   "id": "d96b6993",
   "metadata": {},
   "outputs": [
    {
     "data": {
      "text/plain": [
       "True"
      ]
     },
     "execution_count": 62,
     "metadata": {},
     "output_type": "execute_result"
    }
   ],
   "source": [
    "np.any(x<10)"
   ]
  },
  {
   "cell_type": "code",
   "execution_count": 63,
   "id": "44811c28",
   "metadata": {},
   "outputs": [
    {
     "data": {
      "text/plain": [
       "False"
      ]
     },
     "execution_count": 63,
     "metadata": {},
     "output_type": "execute_result"
    }
   ],
   "source": [
    "np.any(x==10)"
   ]
  },
  {
   "cell_type": "code",
   "execution_count": 64,
   "id": "36716606",
   "metadata": {},
   "outputs": [
    {
     "data": {
      "text/plain": [
       "True"
      ]
     },
     "execution_count": 64,
     "metadata": {},
     "output_type": "execute_result"
    }
   ],
   "source": [
    "np.any(x>8)"
   ]
  },
  {
   "cell_type": "code",
   "execution_count": 65,
   "id": "018bc1cd",
   "metadata": {},
   "outputs": [
    {
     "data": {
      "text/plain": [
       "array([ True, False,  True])"
      ]
     },
     "execution_count": 65,
     "metadata": {},
     "output_type": "execute_result"
    }
   ],
   "source": [
    "# 檢查每一列中，是否所有數值都小於8\n",
    "np.all(x<8,axis = 1)"
   ]
  },
  {
   "cell_type": "code",
   "execution_count": 66,
   "id": "bd9e8ea8",
   "metadata": {},
   "outputs": [
    {
     "data": {
      "text/plain": [
       "array([0, 3, 3, 3, 2, 4])"
      ]
     },
     "execution_count": 66,
     "metadata": {},
     "output_type": "execute_result"
    }
   ],
   "source": [
    "x[x<5] #傳回符合條件的數值，以一維陣列呈現從左到右，從上而下"
   ]
  },
  {
   "cell_type": "markdown",
   "id": "b9a66d75",
   "metadata": {},
   "source": [
    "## 將數字二進位化，並做位元的布林運算"
   ]
  },
  {
   "cell_type": "code",
   "execution_count": 67,
   "id": "d496445d",
   "metadata": {},
   "outputs": [
    {
     "data": {
      "text/plain": [
       "'0b101010'"
      ]
     },
     "execution_count": 67,
     "metadata": {},
     "output_type": "execute_result"
    }
   ],
   "source": [
    "bin(42) # 2+8+32=42"
   ]
  },
  {
   "cell_type": "code",
   "execution_count": 68,
   "id": "169839e0",
   "metadata": {},
   "outputs": [
    {
     "data": {
      "text/plain": [
       "'0b111011'"
      ]
     },
     "execution_count": 68,
     "metadata": {},
     "output_type": "execute_result"
    }
   ],
   "source": [
    "bin(59) # 1+2+8+16+32=59"
   ]
  },
  {
   "cell_type": "code",
   "execution_count": 69,
   "id": "6fefb63d",
   "metadata": {},
   "outputs": [
    {
     "data": {
      "text/plain": [
       "'0b101010'"
      ]
     },
     "execution_count": 69,
     "metadata": {},
     "output_type": "execute_result"
    }
   ],
   "source": [
    "bin(42&59)  #同位元中，兩者皆1顯示結果1"
   ]
  },
  {
   "cell_type": "code",
   "execution_count": 70,
   "id": "737ca08b",
   "metadata": {},
   "outputs": [
    {
     "data": {
      "text/plain": [
       "'0b111011'"
      ]
     },
     "execution_count": 70,
     "metadata": {},
     "output_type": "execute_result"
    }
   ],
   "source": [
    "bin(42|59) #同位元中，其中有1顯示結果1"
   ]
  },
  {
   "cell_type": "markdown",
   "id": "5fbe1255",
   "metadata": {},
   "source": [
    "## Fancy 索引\n",
    "概念上: 它傳遞一個陣列作為索引，以利一次存取多個陣列元素"
   ]
  },
  {
   "cell_type": "code",
   "execution_count": 71,
   "id": "04c310ee",
   "metadata": {},
   "outputs": [
    {
     "data": {
      "text/plain": [
       "array([0, 1, 2])"
      ]
     },
     "execution_count": 71,
     "metadata": {},
     "output_type": "execute_result"
    }
   ],
   "source": [
    "row = np.array([0,1,2])\n",
    "row"
   ]
  },
  {
   "cell_type": "code",
   "execution_count": 72,
   "id": "60d25078",
   "metadata": {},
   "outputs": [
    {
     "data": {
      "text/plain": [
       "array([2, 1, 3])"
      ]
     },
     "execution_count": 72,
     "metadata": {},
     "output_type": "execute_result"
    }
   ],
   "source": [
    "col = np.array([2,1,3])\n",
    "col"
   ]
  },
  {
   "cell_type": "code",
   "execution_count": 73,
   "id": "09ce8dd2",
   "metadata": {},
   "outputs": [
    {
     "data": {
      "text/plain": [
       "array([[ 0,  1,  2,  3],\n",
       "       [ 4,  5,  6,  7],\n",
       "       [ 8,  9, 10, 11]])"
      ]
     },
     "execution_count": 73,
     "metadata": {},
     "output_type": "execute_result"
    }
   ],
   "source": [
    "X = np.arange(12).reshape((3,4))\n",
    "X"
   ]
  },
  {
   "cell_type": "code",
   "execution_count": 74,
   "id": "80fd7eb2",
   "metadata": {},
   "outputs": [
    {
     "data": {
      "text/plain": [
       "array([ 2,  5, 11])"
      ]
     },
     "execution_count": 74,
     "metadata": {},
     "output_type": "execute_result"
    }
   ],
   "source": [
    "X[row,col] # 取出 X[0,2],X[1,1],X[2,3]"
   ]
  },
  {
   "cell_type": "code",
   "execution_count": 75,
   "id": "e975c854",
   "metadata": {},
   "outputs": [
    {
     "data": {
      "text/plain": [
       "array([[ 2,  1,  3],\n",
       "       [ 6,  5,  7],\n",
       "       [10,  9, 11]])"
      ]
     },
     "execution_count": 75,
     "metadata": {},
     "output_type": "execute_result"
    }
   ],
   "source": [
    "X[row[:,np.newaxis],col] \n",
    "#行向量[0,1,2] broadcasting 列向量[2,1,3] 形成3x3 : 九個數對 索引"
   ]
  },
  {
   "cell_type": "code",
   "execution_count": 76,
   "id": "52b95afa",
   "metadata": {},
   "outputs": [
    {
     "data": {
      "text/plain": [
       "[array([[0],\n",
       "        [1],\n",
       "        [2]]),\n",
       " array([2, 1, 3])]"
      ]
     },
     "execution_count": 76,
     "metadata": {},
     "output_type": "execute_result"
    }
   ],
   "source": [
    "[row[:,np.newaxis],col]\n",
    "# [ [(0,2),(0,1),(0,3)],\n",
    "#   [(1,2),(1,1),(1,3)],\n",
    "#   [(2,2),(2,1),(2,3)]\n",
    "# ]"
   ]
  },
  {
   "cell_type": "code",
   "execution_count": 77,
   "id": "5174c0d8",
   "metadata": {},
   "outputs": [],
   "source": [
    "i=[2,3,3,4,4,4]"
   ]
  },
  {
   "cell_type": "code",
   "execution_count": 78,
   "id": "101ff95a",
   "metadata": {},
   "outputs": [
    {
     "data": {
      "text/plain": [
       "array([0., 0., 0., 0., 0., 0., 0., 0., 0., 0.])"
      ]
     },
     "execution_count": 78,
     "metadata": {},
     "output_type": "execute_result"
    }
   ],
   "source": [
    "x = np.zeros(10)\n",
    "x"
   ]
  },
  {
   "cell_type": "code",
   "execution_count": 79,
   "id": "2c97166b",
   "metadata": {},
   "outputs": [
    {
     "data": {
      "text/plain": [
       "array([[0, 0, 0, 0],\n",
       "       [0, 0, 0, 0],\n",
       "       [0, 0, 0, 0]])"
      ]
     },
     "execution_count": 79,
     "metadata": {},
     "output_type": "execute_result"
    }
   ],
   "source": [
    "np.zeros_like(X)"
   ]
  },
  {
   "cell_type": "code",
   "execution_count": 80,
   "id": "32e9a51d",
   "metadata": {},
   "outputs": [
    {
     "data": {
      "text/plain": [
       "array([0., 0., 1., 2., 3., 0., 0., 0., 0., 0.])"
      ]
     },
     "execution_count": 80,
     "metadata": {},
     "output_type": "execute_result"
    }
   ],
   "source": [
    "np.add.at(x,i,1)\n",
    "x"
   ]
  },
  {
   "cell_type": "markdown",
   "id": "bda03920",
   "metadata": {},
   "source": [
    "## 資料裝箱應用"
   ]
  },
  {
   "cell_type": "code",
   "execution_count": 81,
   "id": "8ef24014",
   "metadata": {},
   "outputs": [
    {
     "data": {
      "text/plain": [
       "array([-5.        , -4.47368421, -3.94736842, -3.42105263, -2.89473684,\n",
       "       -2.36842105, -1.84210526, -1.31578947, -0.78947368, -0.26315789,\n",
       "        0.26315789,  0.78947368,  1.31578947,  1.84210526,  2.36842105,\n",
       "        2.89473684,  3.42105263,  3.94736842,  4.47368421,  5.        ])"
      ]
     },
     "execution_count": 81,
     "metadata": {},
     "output_type": "execute_result"
    }
   ],
   "source": [
    "bins= np.linspace(-5,5,20)\n",
    "bins"
   ]
  },
  {
   "cell_type": "code",
   "execution_count": 82,
   "id": "93f23be3",
   "metadata": {},
   "outputs": [],
   "source": [
    "x=np.random.randn(100)"
   ]
  },
  {
   "cell_type": "code",
   "execution_count": 83,
   "id": "97fefa5f",
   "metadata": {},
   "outputs": [
    {
     "data": {
      "text/plain": [
       "array([0., 0., 0., 0., 0., 0., 0., 0., 0., 0., 0., 0., 0., 0., 0., 0., 0.,\n",
       "       0., 0., 0.])"
      ]
     },
     "execution_count": 83,
     "metadata": {},
     "output_type": "execute_result"
    }
   ],
   "source": [
    "counts = np.zeros_like(bins)\n",
    "counts"
   ]
  },
  {
   "cell_type": "code",
   "execution_count": 84,
   "id": "6c71e13c",
   "metadata": {},
   "outputs": [],
   "source": [
    "# numpy.searchsorted(a, v, side='left', sorter=None) \n",
    "# side   returned index i satisfies\n",
    "# left   a[i-1] < v <= a[i]\n",
    "# right  a[i-1] <= v < a[i]\n",
    "# Returns: indices  int or array of ints\n",
    "# Array of insertion points with the same shape as v, \n",
    "# or an integer if v is a scalar.\n",
    "i=np.searchsorted(bins,x)"
   ]
  },
  {
   "cell_type": "code",
   "execution_count": 85,
   "id": "8062ce8e",
   "metadata": {},
   "outputs": [
    {
     "data": {
      "text/plain": [
       "array([ 6, 11, 10,  8,  9,  9, 15, 11, 11, 10,  9,  9,  6, 15,  9,  9, 13,\n",
       "       12,  8,  9,  9,  9,  8,  8,  8, 11, 10, 12, 10, 11, 12, 11, 10, 12,\n",
       "        8,  8,  8, 14, 12, 11, 12, 13, 10, 11,  9, 11,  8, 12, 10, 13, 11,\n",
       "       12,  8,  9,  8, 10, 10,  9,  8, 11,  8,  9,  7, 11,  9, 10,  9, 11,\n",
       "       12, 10,  9, 10,  8,  8,  6, 10, 13, 10, 10, 13,  8, 11, 12,  9,  9,\n",
       "       10,  7,  9, 12, 10, 12, 10,  9,  6, 12,  9,  9,  8,  8, 11],\n",
       "      dtype=int64)"
      ]
     },
     "execution_count": 85,
     "metadata": {},
     "output_type": "execute_result"
    }
   ],
   "source": [
    "i"
   ]
  },
  {
   "cell_type": "code",
   "execution_count": 86,
   "id": "9b1fe6f1",
   "metadata": {},
   "outputs": [],
   "source": [
    "np.add.at(counts,i,1)"
   ]
  },
  {
   "cell_type": "code",
   "execution_count": 87,
   "id": "1a059109",
   "metadata": {},
   "outputs": [
    {
     "data": {
      "text/plain": [
       "array([ 0.,  0.,  0.,  0.,  0.,  0.,  4.,  2., 18., 22., 18., 15., 13.,\n",
       "        5.,  1.,  2.,  0.,  0.,  0.,  0.])"
      ]
     },
     "execution_count": 87,
     "metadata": {},
     "output_type": "execute_result"
    }
   ],
   "source": [
    "counts"
   ]
  },
  {
   "cell_type": "code",
   "execution_count": 88,
   "id": "09021b80",
   "metadata": {},
   "outputs": [
    {
     "data": {
      "text/plain": [
       "[<matplotlib.lines.Line2D at 0x1b7c1e9a1f0>]"
      ]
     },
     "execution_count": 88,
     "metadata": {},
     "output_type": "execute_result"
    },
    {
     "data": {
      "image/png": "[encoded data removed]",
      "text/plain": [
       "<Figure size 432x288 with 1 Axes>"
      ]
     },
     "metadata": {},
     "output_type": "display_data"
    }
   ],
   "source": [
    "plt.plot(bins,counts, linestyle='--', drawstyle='steps' )"
   ]
  },
  {
   "cell_type": "code",
   "execution_count": 89,
   "id": "5f033dc1",
   "metadata": {},
   "outputs": [
    {
     "data": {
      "image/png": "[encoded data removed]",
      "text/plain": [
       "<Figure size 432x288 with 1 Axes>"
      ]
     },
     "metadata": {},
     "output_type": "display_data"
    }
   ],
   "source": [
    "# 或是直接使用套件plt.hist， 其使用了np.histogram函式方法，特點是data資料量變大時，可以有較優異的效能\n",
    "plt.hist(x, bins,histtype='step'); #加上分號不顯示陣列細節，只需顯示圖片即可"
   ]
  },
  {
   "cell_type": "code",
   "execution_count": 90,
   "id": "02cf9af7",
   "metadata": {},
   "outputs": [
    {
     "data": {
      "text/plain": [
       "1000000"
      ]
     },
     "execution_count": 90,
     "metadata": {},
     "output_type": "execute_result"
    }
   ],
   "source": [
    "N=int(1e6)\n",
    "N"
   ]
  },
  {
   "cell_type": "code",
   "execution_count": 91,
   "id": "4f1d4973",
   "metadata": {},
   "outputs": [],
   "source": [
    "x = np.random.randn(N)"
   ]
  },
  {
   "cell_type": "code",
   "execution_count": 92,
   "id": "c7f46f0e",
   "metadata": {},
   "outputs": [
    {
     "name": "stdout",
     "output_type": "stream",
     "text": [
      "Numpy routine: \n",
      "適用於大型資料勝\n",
      "62.5 ms ± 641 µs per loop (mean ± std. dev. of 7 runs, 10 loops each)\n",
      "Custom routine:\n",
      "84.6 ms ± 150 µs per loop (mean ± std. dev. of 7 runs, 10 loops each)\n"
     ]
    }
   ],
   "source": [
    "print(\"Numpy routine: \\n適用於大型資料勝\")\n",
    "%timeit counts,edges = np.histogram(x,bins)\n",
    "print(\"Custom routine:\")\n",
    "%timeit np.add.at(counts,np.searchsorted(bins,x),1)"
   ]
  },
  {
   "cell_type": "code",
   "execution_count": 93,
   "id": "334bfe73",
   "metadata": {},
   "outputs": [
    {
     "data": {
      "text/plain": [
       "array([2, 1, 4, 3, 5])"
      ]
     },
     "execution_count": 93,
     "metadata": {},
     "output_type": "execute_result"
    }
   ],
   "source": [
    "# Numpy中的快速排序法quicksort algorithm : np.sort  np.argsort\n",
    "x = np.array([2,1,4,3,5])   #y=np.arange(1,6)  y\n",
    "x"
   ]
  },
  {
   "cell_type": "code",
   "execution_count": 94,
   "id": "a5cc1702",
   "metadata": {},
   "outputs": [
    {
     "data": {
      "text/plain": [
       "array([1, 2, 3, 4, 5])"
      ]
     },
     "execution_count": 94,
     "metadata": {},
     "output_type": "execute_result"
    }
   ],
   "source": [
    "np.sort(x) #升值順序下排序"
   ]
  },
  {
   "cell_type": "code",
   "execution_count": 95,
   "id": "b5582591",
   "metadata": {},
   "outputs": [],
   "source": [
    "i = np.argsort(x) #抓出序位陣列"
   ]
  },
  {
   "cell_type": "code",
   "execution_count": 96,
   "id": "9069224b",
   "metadata": {},
   "outputs": [
    {
     "data": {
      "text/plain": [
       "array([1, 0, 3, 2, 4], dtype=int64)"
      ]
     },
     "execution_count": 96,
     "metadata": {},
     "output_type": "execute_result"
    }
   ],
   "source": [
    "i"
   ]
  },
  {
   "cell_type": "code",
   "execution_count": 97,
   "id": "99fbb7c8",
   "metadata": {},
   "outputs": [
    {
     "data": {
      "text/plain": [
       "array([1, 2, 3, 4, 5])"
      ]
     },
     "execution_count": 97,
     "metadata": {},
     "output_type": "execute_result"
    }
   ],
   "source": [
    "x[np.argsort(x)]  #升值順序下排序，另外一種方式"
   ]
  },
  {
   "cell_type": "code",
   "execution_count": 98,
   "id": "3e8a6e42",
   "metadata": {},
   "outputs": [],
   "source": [
    "rand = np.random.RandomState(42)\n",
    "X = rand.randint(0,10,size = (4,6))"
   ]
  },
  {
   "cell_type": "code",
   "execution_count": 99,
   "id": "2e45adad",
   "metadata": {},
   "outputs": [
    {
     "data": {
      "text/plain": [
       "array([[6, 3, 7, 4, 6, 9],\n",
       "       [2, 6, 7, 4, 3, 7],\n",
       "       [7, 2, 5, 4, 1, 7],\n",
       "       [5, 1, 4, 0, 9, 5]])"
      ]
     },
     "execution_count": 99,
     "metadata": {},
     "output_type": "execute_result"
    }
   ],
   "source": [
    "X"
   ]
  },
  {
   "cell_type": "code",
   "execution_count": 100,
   "id": "db5789bb",
   "metadata": {},
   "outputs": [
    {
     "data": {
      "text/plain": [
       "array([[2, 1, 4, 0, 1, 5],\n",
       "       [5, 2, 5, 4, 3, 7],\n",
       "       [6, 3, 7, 4, 6, 7],\n",
       "       [7, 6, 7, 4, 9, 9]])"
      ]
     },
     "execution_count": 100,
     "metadata": {},
     "output_type": "execute_result"
    }
   ],
   "source": [
    "np.sort(X,axis=0)  #針對每一欄中的不同列元素，做行排序"
   ]
  },
  {
   "cell_type": "code",
   "execution_count": 101,
   "id": "d759a0cd",
   "metadata": {},
   "outputs": [
    {
     "data": {
      "text/plain": [
       "array([[3, 4, 6, 6, 7, 9],\n",
       "       [2, 3, 4, 6, 7, 7],\n",
       "       [1, 2, 4, 5, 7, 7],\n",
       "       [0, 1, 4, 5, 5, 9]])"
      ]
     },
     "execution_count": 101,
     "metadata": {},
     "output_type": "execute_result"
    }
   ],
   "source": [
    "np.sort(X,axis=1)  #針對每一列中的不同行元素，做列排序"
   ]
  },
  {
   "cell_type": "markdown",
   "id": "787a434f",
   "metadata": {},
   "source": [
    "## 部分分區排序"
   ]
  },
  {
   "cell_type": "code",
   "execution_count": 102,
   "id": "62060d80",
   "metadata": {},
   "outputs": [
    {
     "data": {
      "text/plain": [
       "array([[3, 4, 6, 7, 6, 9],\n",
       "       [2, 3, 4, 7, 6, 7],\n",
       "       [1, 2, 4, 5, 7, 7],\n",
       "       [0, 1, 4, 5, 9, 5]])"
      ]
     },
     "execution_count": 102,
     "metadata": {},
     "output_type": "execute_result"
    }
   ],
   "source": [
    "np.partition(X,2,axis = 1)  \n",
    "#針對每一列中的不同行元素分兩區，該列最小的兩個值放在左側前兩個位序"
   ]
  },
  {
   "cell_type": "markdown",
   "id": "917e41dc",
   "metadata": {},
   "source": [
    "## Knn鄰近法  \n",
    "相異兩點的距離"
   ]
  },
  {
   "cell_type": "code",
   "execution_count": 103,
   "id": "ede19dc1",
   "metadata": {},
   "outputs": [],
   "source": [
    "X = rand.rand(10,2) #  X.shape  (10, 2)"
   ]
  },
  {
   "cell_type": "code",
   "execution_count": 104,
   "id": "f61c7aa3",
   "metadata": {},
   "outputs": [],
   "source": [
    "import matplotlib.pyplot as plt\n",
    "import seaborn;\n",
    "seaborn.set()"
   ]
  },
  {
   "cell_type": "code",
   "execution_count": 105,
   "id": "bd87b59d",
   "metadata": {},
   "outputs": [
    {
     "data": {
      "text/plain": [
       "<matplotlib.collections.PathCollection at 0x1b7c1f65190>"
      ]
     },
     "execution_count": 105,
     "metadata": {},
     "output_type": "execute_result"
    },
    {
     "data": {
      "image/png": "[encoded data removed]",
      "text/plain": [
       "<Figure size 432x288 with 1 Axes>"
      ]
     },
     "metadata": {},
     "output_type": "display_data"
    }
   ],
   "source": [
    "plt.scatter(X[:,0], X[:,1],s=100)"
   ]
  },
  {
   "cell_type": "code",
   "execution_count": 106,
   "id": "5d387cd9",
   "metadata": {},
   "outputs": [
    {
     "data": {
      "text/plain": [
       "array([[[0.00706631, 0.02306243]],\n",
       "\n",
       "       [[0.52477466, 0.39986097]],\n",
       "\n",
       "       [[0.04666566, 0.97375552]],\n",
       "\n",
       "       [[0.23277134, 0.09060643]],\n",
       "\n",
       "       [[0.61838601, 0.38246199]],\n",
       "\n",
       "       [[0.98323089, 0.46676289]],\n",
       "\n",
       "       [[0.85994041, 0.68030754]],\n",
       "\n",
       "       [[0.45049925, 0.01326496]],\n",
       "\n",
       "       [[0.94220176, 0.56328822]],\n",
       "\n",
       "       [[0.3854165 , 0.01596625]]])"
      ]
     },
     "execution_count": 106,
     "metadata": {},
     "output_type": "execute_result"
    }
   ],
   "source": [
    "X[:,np.newaxis] #.shape (10, 1, 2)"
   ]
  },
  {
   "cell_type": "code",
   "execution_count": 107,
   "id": "e5537aa2",
   "metadata": {},
   "outputs": [
    {
     "data": {
      "text/plain": [
       "array([[[0.00706631, 0.02306243],\n",
       "        [0.52477466, 0.39986097],\n",
       "        [0.04666566, 0.97375552],\n",
       "        [0.23277134, 0.09060643],\n",
       "        [0.61838601, 0.38246199],\n",
       "        [0.98323089, 0.46676289],\n",
       "        [0.85994041, 0.68030754],\n",
       "        [0.45049925, 0.01326496],\n",
       "        [0.94220176, 0.56328822],\n",
       "        [0.3854165 , 0.01596625]]])"
      ]
     },
     "execution_count": 107,
     "metadata": {},
     "output_type": "execute_result"
    }
   ],
   "source": [
    "X[np.newaxis,:] #.shape (1, 10, 2)"
   ]
  },
  {
   "cell_type": "code",
   "execution_count": 108,
   "id": "06ff4159",
   "metadata": {},
   "outputs": [],
   "source": [
    "diff = X[:,np.newaxis] - X[np.newaxis,:]"
   ]
  },
  {
   "cell_type": "code",
   "execution_count": 109,
   "id": "1ddb8c15",
   "metadata": {},
   "outputs": [
    {
     "data": {
      "text/plain": [
       "(10, 10, 2)"
      ]
     },
     "execution_count": 109,
     "metadata": {},
     "output_type": "execute_result"
    }
   ],
   "source": [
    "diff.shape"
   ]
  },
  {
   "cell_type": "code",
   "execution_count": 110,
   "id": "f7d0c06d",
   "metadata": {},
   "outputs": [],
   "source": [
    "sq_diff=diff**2"
   ]
  },
  {
   "cell_type": "code",
   "execution_count": 111,
   "id": "d41a4684",
   "metadata": {},
   "outputs": [
    {
     "data": {
      "text/plain": [
       "array([[[0.00000000e+00, 0.00000000e+00],\n",
       "        [2.68021941e-01, 1.41977145e-01],\n",
       "        [1.56810915e-03, 9.03817359e-01],\n",
       "        [5.09427629e-02, 4.56219322e-03],\n",
       "        [3.73711781e-01, 1.29168048e-01],\n",
       "        [9.52897288e-01, 1.96870105e-01],\n",
       "        [7.27394233e-01, 4.31971139e-01],\n",
       "        [1.96632778e-01, 9.59902985e-05],\n",
       "        [8.74478311e-01, 2.91843907e-01],\n",
       "        [1.43148872e-01, 5.03556687e-05]],\n",
       "\n",
       "       [[2.68021941e-01, 1.41977145e-01],\n",
       "        [0.00000000e+00, 0.00000000e+00],\n",
       "        [2.28588213e-01, 3.29354951e-01],\n",
       "        [8.52659388e-02, 9.56383688e-02],\n",
       "        [8.76308468e-03, 3.02724521e-04],\n",
       "        [2.10182111e-01, 4.47586710e-03],\n",
       "        [1.12336078e-01, 7.86502769e-02],\n",
       "        [5.51683628e-03, 1.49456475e-01],\n",
       "        [1.74245380e-01, 2.67084648e-02],\n",
       "        [1.94206961e-02, 1.47375156e-01]],\n",
       "\n",
       "       [[1.56810915e-03, 9.03817359e-01],\n",
       "        [2.28588213e-01, 3.29354951e-01],\n",
       "        [0.00000000e+00, 0.00000000e+00],\n",
       "        [3.46353231e-02, 7.79952305e-01],\n",
       "        [3.26864154e-01, 3.49628036e-01],\n",
       "        [8.77154416e-01, 2.57041522e-01],\n",
       "        [6.61415808e-01, 8.61117171e-02],\n",
       "        [1.63081567e-01, 9.22542111e-01],\n",
       "        [8.01984893e-01, 1.68483405e-01],\n",
       "        [1.14752131e-01, 9.17360279e-01]],\n",
       "\n",
       "       [[5.09427629e-02, 4.56219322e-03],\n",
       "        [8.52659388e-02, 9.56383688e-02],\n",
       "        [3.46353231e-02, 7.79952305e-01],\n",
       "        [0.00000000e+00, 0.00000000e+00],\n",
       "        [1.48698673e-01, 8.51796660e-02],\n",
       "        [5.63189529e-01, 1.41493681e-01],\n",
       "        [3.93341038e-01, 3.47747392e-01],\n",
       "        [4.74054435e-02, 5.98170350e-03],\n",
       "        [5.03291514e-01, 2.23428068e-01],\n",
       "        [2.33005455e-02, 5.57115682e-03]],\n",
       "\n",
       "       [[3.73711781e-01, 1.29168048e-01],\n",
       "        [8.76308468e-03, 3.02724521e-04],\n",
       "        [3.26864154e-01, 3.49628036e-01],\n",
       "        [1.48698673e-01, 8.51796660e-02],\n",
       "        [0.00000000e+00, 0.00000000e+00],\n",
       "        [1.33111784e-01, 7.10664207e-03],\n",
       "        [5.83485269e-02, 8.87119701e-02],\n",
       "        [2.81859633e-02, 1.36306447e-01],\n",
       "        [1.04856638e-01, 3.26981242e-02],\n",
       "        [5.42747911e-02, 1.34319127e-01]],\n",
       "\n",
       "       [[9.52897288e-01, 1.96870105e-01],\n",
       "        [2.10182111e-01, 4.47586710e-03],\n",
       "        [8.77154416e-01, 2.57041522e-01],\n",
       "        [5.63189529e-01, 1.41493681e-01],\n",
       "        [1.33111784e-01, 7.10664207e-03],\n",
       "        [0.00000000e+00, 0.00000000e+00],\n",
       "        [1.52005422e-02, 4.56013156e-02],\n",
       "        [2.83802994e-01, 2.05660374e-01],\n",
       "        [1.68338952e-03, 9.31713829e-03],\n",
       "        [3.57382037e-01, 2.03217612e-01]],\n",
       "\n",
       "       [[7.27394233e-01, 4.31971139e-01],\n",
       "        [1.12336078e-01, 7.86502769e-02],\n",
       "        [6.61415808e-01, 8.61117171e-02],\n",
       "        [3.93341038e-01, 3.47747392e-01],\n",
       "        [5.83485269e-02, 8.87119701e-02],\n",
       "        [1.52005422e-02, 4.56013156e-02],\n",
       "        [0.00000000e+00, 0.00000000e+00],\n",
       "        [1.67642059e-01, 4.44945800e-01],\n",
       "        [6.76692953e-03, 1.36935214e-02],\n",
       "        [2.25172936e-01, 4.41349345e-01]],\n",
       "\n",
       "       [[1.96632778e-01, 9.59902985e-05],\n",
       "        [5.51683628e-03, 1.49456475e-01],\n",
       "        [1.63081567e-01, 9.22542111e-01],\n",
       "        [4.74054435e-02, 5.98170350e-03],\n",
       "        [2.81859633e-02, 1.36306447e-01],\n",
       "        [2.83802994e-01, 2.05660374e-01],\n",
       "        [1.67642059e-01, 4.44945800e-01],\n",
       "        [0.00000000e+00, 0.00000000e+00],\n",
       "        [2.41771352e-01, 3.02525583e-01],\n",
       "        [4.23576427e-03, 7.29697339e-06]],\n",
       "\n",
       "       [[8.74478311e-01, 2.91843907e-01],\n",
       "        [1.74245380e-01, 2.67084648e-02],\n",
       "        [8.01984893e-01, 1.68483405e-01],\n",
       "        [5.03291514e-01, 2.23428068e-01],\n",
       "        [1.04856638e-01, 3.26981242e-02],\n",
       "        [1.68338952e-03, 9.31713829e-03],\n",
       "        [6.76692953e-03, 1.36935214e-02],\n",
       "        [2.41771352e-01, 3.02525583e-01],\n",
       "        [0.00000000e+00, 0.00000000e+00],\n",
       "        [3.10009818e-01, 2.99561334e-01]],\n",
       "\n",
       "       [[1.43148872e-01, 5.03556687e-05],\n",
       "        [1.94206961e-02, 1.47375156e-01],\n",
       "        [1.14752131e-01, 9.17360279e-01],\n",
       "        [2.33005455e-02, 5.57115682e-03],\n",
       "        [5.42747911e-02, 1.34319127e-01],\n",
       "        [3.57382037e-01, 2.03217612e-01],\n",
       "        [2.25172936e-01, 4.41349345e-01],\n",
       "        [4.23576427e-03, 7.29697339e-06],\n",
       "        [3.10009818e-01, 2.99561334e-01],\n",
       "        [0.00000000e+00, 0.00000000e+00]]])"
      ]
     },
     "execution_count": 111,
     "metadata": {},
     "output_type": "execute_result"
    }
   ],
   "source": [
    "sq_diff"
   ]
  },
  {
   "cell_type": "code",
   "execution_count": 112,
   "id": "bc2f7843",
   "metadata": {},
   "outputs": [
    {
     "data": {
      "text/plain": [
       "(10, 10, 2)"
      ]
     },
     "execution_count": 112,
     "metadata": {},
     "output_type": "execute_result"
    }
   ],
   "source": [
    "sq_diff.shape"
   ]
  },
  {
   "cell_type": "code",
   "execution_count": 163,
   "id": "4313691d",
   "metadata": {},
   "outputs": [],
   "source": [
    "dist_sq=sq_diff.sum(axis = -1)"
   ]
  },
  {
   "cell_type": "code",
   "execution_count": 164,
   "id": "3a34d22a",
   "metadata": {},
   "outputs": [
    {
     "data": {
      "text/plain": [
       "array([[0.        , 0.40999909, 0.90538547, 0.05550496, 0.50287983,\n",
       "        1.14976739, 1.15936537, 0.19672877, 1.16632222, 0.14319923],\n",
       "       [0.40999909, 0.        , 0.55794316, 0.18090431, 0.00906581,\n",
       "        0.21465798, 0.19098635, 0.15497331, 0.20095384, 0.16679585],\n",
       "       [0.90538547, 0.55794316, 0.        , 0.81458763, 0.67649219,\n",
       "        1.13419594, 0.74752753, 1.08562368, 0.9704683 , 1.03211241],\n",
       "       [0.05550496, 0.18090431, 0.81458763, 0.        , 0.23387834,\n",
       "        0.70468321, 0.74108843, 0.05338715, 0.72671958, 0.0288717 ],\n",
       "       [0.50287983, 0.00906581, 0.67649219, 0.23387834, 0.        ,\n",
       "        0.14021843, 0.1470605 , 0.16449241, 0.13755476, 0.18859392],\n",
       "       [1.14976739, 0.21465798, 1.13419594, 0.70468321, 0.14021843,\n",
       "        0.        , 0.06080186, 0.48946337, 0.01100053, 0.56059965],\n",
       "       [1.15936537, 0.19098635, 0.74752753, 0.74108843, 0.1470605 ,\n",
       "        0.06080186, 0.        , 0.61258786, 0.02046045, 0.66652228],\n",
       "       [0.19672877, 0.15497331, 1.08562368, 0.05338715, 0.16449241,\n",
       "        0.48946337, 0.61258786, 0.        , 0.54429694, 0.00424306],\n",
       "       [1.16632222, 0.20095384, 0.9704683 , 0.72671958, 0.13755476,\n",
       "        0.01100053, 0.02046045, 0.54429694, 0.        , 0.60957115],\n",
       "       [0.14319923, 0.16679585, 1.03211241, 0.0288717 , 0.18859392,\n",
       "        0.56059965, 0.66652228, 0.00424306, 0.60957115, 0.        ]])"
      ]
     },
     "execution_count": 164,
     "metadata": {},
     "output_type": "execute_result"
    }
   ],
   "source": [
    "dist_sq  #.shape(10, 10)"
   ]
  },
  {
   "cell_type": "code",
   "execution_count": 167,
   "id": "2f82af68",
   "metadata": {},
   "outputs": [
    {
     "data": {
      "text/plain": [
       "(10, 10)"
      ]
     },
     "execution_count": 167,
     "metadata": {},
     "output_type": "execute_result"
    }
   ],
   "source": [
    "ii = np.argsort(dist_sq,axis=1) #沿著每一列排序_序位\n",
    "ii.shape"
   ]
  },
  {
   "cell_type": "code",
   "execution_count": 168,
   "id": "032f2b08",
   "metadata": {},
   "outputs": [
    {
     "data": {
      "text/plain": [
       "array([0.40999909, 0.        , 0.55794316, 0.18090431, 0.00906581,\n",
       "       0.21465798, 0.19098635, 0.15497331, 0.20095384, 0.16679585])"
      ]
     },
     "execution_count": 168,
     "metadata": {},
     "output_type": "execute_result"
    }
   ],
   "source": [
    "dist_sq[1,:]"
   ]
  },
  {
   "cell_type": "code",
   "execution_count": 169,
   "id": "4cd71f41",
   "metadata": {},
   "outputs": [
    {
     "data": {
      "text/plain": [
       "array([[44, 47, 64, 67],\n",
       "       [67,  9, 83, 21],\n",
       "       [36, 87, 70, 88]])"
      ]
     },
     "execution_count": 169,
     "metadata": {},
     "output_type": "execute_result"
    }
   ],
   "source": [
    "np.random.seed(0)\n",
    "xxx=np.random.randint(0,100,size=(3,4))\n",
    "xxx"
   ]
  },
  {
   "cell_type": "code",
   "execution_count": 170,
   "id": "b5d30229",
   "metadata": {},
   "outputs": [
    {
     "data": {
      "text/plain": [
       "array([[0, 1, 2, 3],\n",
       "       [1, 3, 0, 2],\n",
       "       [0, 2, 1, 3]], dtype=int64)"
      ]
     },
     "execution_count": 170,
     "metadata": {},
     "output_type": "execute_result"
    }
   ],
   "source": [
    "np.argsort(xxx,axis=1)   #參考https://youtu.be/6W8UHvn8ckg 說明"
   ]
  },
  {
   "cell_type": "code",
   "execution_count": 171,
   "id": "59f55297",
   "metadata": {},
   "outputs": [],
   "source": [
    "nearest = np.argsort(dist_sq,axis=1)"
   ]
  },
  {
   "cell_type": "code",
   "execution_count": 172,
   "id": "bae99e6e",
   "metadata": {},
   "outputs": [
    {
     "data": {
      "text/plain": [
       "array([[0, 3, 9, 7, 1, 4, 2, 5, 6, 8],\n",
       "       [1, 4, 7, 9, 3, 6, 8, 5, 0, 2],\n",
       "       [2, 1, 4, 6, 3, 0, 8, 9, 7, 5],\n",
       "       [3, 9, 7, 0, 1, 4, 5, 8, 6, 2],\n",
       "       [4, 1, 8, 5, 6, 7, 9, 3, 0, 2],\n",
       "       [5, 8, 6, 4, 1, 7, 9, 3, 2, 0],\n",
       "       [6, 8, 5, 4, 1, 7, 9, 3, 2, 0],\n",
       "       [7, 9, 3, 1, 4, 0, 5, 8, 6, 2],\n",
       "       [8, 5, 6, 4, 1, 7, 9, 3, 2, 0],\n",
       "       [9, 7, 3, 0, 1, 4, 5, 8, 6, 2]], dtype=int64)"
      ]
     },
     "execution_count": 172,
     "metadata": {},
     "output_type": "execute_result"
    }
   ],
   "source": [
    "nearest"
   ]
  },
  {
   "cell_type": "code",
   "execution_count": 118,
   "id": "e5698c35",
   "metadata": {},
   "outputs": [],
   "source": [
    "K=2\n",
    "nearest_patition = np.argpartition(dist_sq,K+1 ,axis =1)"
   ]
  },
  {
   "cell_type": "code",
   "execution_count": 174,
   "id": "710d84b1",
   "metadata": {},
   "outputs": [
    {
     "data": {
      "text/plain": [
       "array([[3, 0, 9, 7, 1, 4, 2, 5, 8, 6],\n",
       "       [1, 4, 7, 9, 3, 5, 6, 2, 8, 0],\n",
       "       [2, 1, 4, 6, 3, 0, 5, 7, 8, 9],\n",
       "       [3, 9, 7, 0, 1, 5, 6, 2, 8, 4],\n",
       "       [1, 8, 4, 5, 7, 6, 9, 3, 2, 0],\n",
       "       [5, 8, 6, 4, 1, 7, 9, 3, 2, 0],\n",
       "       [6, 8, 5, 4, 1, 7, 9, 3, 2, 0],\n",
       "       [7, 9, 3, 1, 4, 5, 6, 2, 8, 0],\n",
       "       [8, 5, 6, 4, 1, 7, 9, 3, 2, 0],\n",
       "       [3, 9, 7, 0, 1, 5, 6, 2, 8, 4]], dtype=int64)"
      ]
     },
     "execution_count": 174,
     "metadata": {},
     "output_type": "execute_result"
    }
   ],
   "source": [
    "nearest_patition"
   ]
  },
  {
   "cell_type": "code",
   "execution_count": 177,
   "id": "65f9098e",
   "metadata": {},
   "outputs": [
    {
     "data": {
      "text/plain": [
       "<matplotlib.collections.PathCollection at 0x1b7c26d2fd0>"
      ]
     },
     "execution_count": 177,
     "metadata": {},
     "output_type": "execute_result"
    },
    {
     "data": {
      "image/png": "[encoded data removed]",
      "text/plain": [
       "<Figure size 432x288 with 1 Axes>"
      ]
     },
     "metadata": {},
     "output_type": "display_data"
    }
   ],
   "source": [
    "plt.scatter(X[:,0],X[:,1],s=100)"
   ]
  },
  {
   "cell_type": "code",
   "execution_count": 212,
   "id": "72cadf3e",
   "metadata": {},
   "outputs": [
    {
     "data": {
      "image/png": "[encoded data removed]",
      "text/plain": [
       "<Figure size 432x288 with 1 Axes>"
      ]
     },
     "metadata": {},
     "output_type": "display_data"
    }
   ],
   "source": [
    "K=2\n",
    "for i in range(X.shape[0]):\n",
    "    for j in nearest_patition[i, :K+1]:\n",
    "        plt.plot(*zip(X[j],X[i]) ,color =\"black\" ) \n",
    "#         https://stackoverflow.com/questions/66111263/using-an-asterisk-to-precede-the-zip-function"
   ]
  },
  {
   "cell_type": "code",
   "execution_count": 209,
   "id": "28560f7c",
   "metadata": {},
   "outputs": [],
   "source": [
    "# The number 310 occurs many times in a, \n",
    "# so I want to sum all the numbers in b that corresponds to 310."
   ]
  },
  {
   "cell_type": "code",
   "execution_count": 210,
   "id": "838cec52",
   "metadata": {},
   "outputs": [
    {
     "name": "stdout",
     "output_type": "stream",
     "text": [
      "3669\n"
     ]
    }
   ],
   "source": [
    "a = [310.0, 510.0, 420.0, 310.0]\n",
    "b = [1322, 678, 1203, 2347]\n",
    "\n",
    "print(sum([j for i, j in zip(a,b) if i==310.0]))\n"
   ]
  },
  {
   "cell_type": "code",
   "execution_count": null,
   "id": "5acbbdcb",
   "metadata": {},
   "outputs": [],
   "source": []
  }
 ],
 "metadata": {
  "kernelspec": {
   "display_name": "Python 3 (ipykernel)",
   "language": "python",
   "name": "python3"
  },
  "language_info": {
   "codemirror_mode": {
    "name": "ipython",
    "version": 3
   },
   "file_extension": ".py",
   "mimetype": "text/x-python",
   "name": "python",
   "nbconvert_exporter": "python",
   "pygments_lexer": "ipython3",
   "version": "3.9.12"
  }
 },
 "nbformat": 4,
 "nbformat_minor": 5
}
