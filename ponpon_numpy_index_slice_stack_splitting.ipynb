{
 "cells": [
  {
   "cell_type": "code",
   "execution_count": 77,
   "id": "7b7c714a",
   "metadata": {},
   "outputs": [
    {
     "data": {
      "text/plain": [
       "'1.21.5'"
      ]
     },
     "execution_count": 77,
     "metadata": {},
     "output_type": "execute_result"
    }
   ],
   "source": [
    "import numpy as np\n",
    "np.__version__"
   ]
  },
  {
   "cell_type": "code",
   "execution_count": null,
   "id": "9cf116cb",
   "metadata": {},
   "outputs": [],
   "source": []
  },
  {
   "cell_type": "code",
   "execution_count": 4,
   "id": "9f54529d",
   "metadata": {},
   "outputs": [
    {
     "data": {
      "text/plain": [
       "array([[3.14159265, 3.14159265, 3.14159265, 3.14159265, 3.14159265],\n",
       "       [3.14159265, 3.14159265, 3.14159265, 3.14159265, 3.14159265],\n",
       "       [3.14159265, 3.14159265, 3.14159265, 3.14159265, 3.14159265]])"
      ]
     },
     "execution_count": 4,
     "metadata": {},
     "output_type": "execute_result"
    }
   ],
   "source": [
    "np.full((3,5),3.14159265358979323) #創建一個3x5陣列: 所有元素都是同一個數字pi的近似"
   ]
  },
  {
   "cell_type": "code",
   "execution_count": 6,
   "id": "69468051",
   "metadata": {},
   "outputs": [
    {
     "data": {
      "text/plain": [
       "array([ 0,  2,  4,  6,  8, 10, 12, 14, 16, 18])"
      ]
     },
     "execution_count": 6,
     "metadata": {},
     "output_type": "execute_result"
    }
   ],
   "source": [
    "np.arange(0,20,2)  #創建一個等差數列陣列:從0開始,不足20終止"
   ]
  },
  {
   "cell_type": "code",
   "execution_count": 7,
   "id": "16fc762c",
   "metadata": {},
   "outputs": [
    {
     "data": {
      "text/plain": [
       "array([0.  , 0.25, 0.5 , 0.75, 1.  ])"
      ]
     },
     "execution_count": 7,
     "metadata": {},
     "output_type": "execute_result"
    }
   ],
   "source": [
    "np.linspace(0,1,5)# 0~1  五個等分割點，包含兩端點"
   ]
  },
  {
   "cell_type": "code",
   "execution_count": 22,
   "id": "cf887bff",
   "metadata": {},
   "outputs": [
    {
     "data": {
      "text/plain": [
       "array([[4, 7],\n",
       "       [6, 8],\n",
       "       [8, 1]])"
      ]
     },
     "execution_count": 22,
     "metadata": {},
     "output_type": "execute_result"
    }
   ],
   "source": [
    "np.random.randint(0,10,size=(3,2) ) #3x2矩陣中都是 0~10隨機整數之間"
   ]
  },
  {
   "cell_type": "code",
   "execution_count": 23,
   "id": "f8b628f4",
   "metadata": {},
   "outputs": [
    {
     "data": {
      "text/plain": [
       "array([[0.5488135 , 0.71518937],\n",
       "       [0.60276338, 0.54488318],\n",
       "       [0.4236548 , 0.64589411]])"
      ]
     },
     "execution_count": 23,
     "metadata": {},
     "output_type": "execute_result"
    }
   ],
   "source": [
    "np.random.seed(0) #固定隨機種子\n",
    "np.random.random(size=(3,2))"
   ]
  },
  {
   "cell_type": "code",
   "execution_count": 24,
   "id": "8f055596",
   "metadata": {},
   "outputs": [
    {
     "data": {
      "text/plain": [
       "array([[ 0.95008842, -0.15135721],\n",
       "       [-0.10321885,  0.4105985 ],\n",
       "       [ 0.14404357,  1.45427351]])"
      ]
     },
     "execution_count": 24,
     "metadata": {},
     "output_type": "execute_result"
    }
   ],
   "source": [
    "np.random.normal(size=(3,2) )"
   ]
  },
  {
   "cell_type": "code",
   "execution_count": 171,
   "id": "892bdb13",
   "metadata": {},
   "outputs": [
    {
     "data": {
      "text/plain": [
       "(3, 3)"
      ]
     },
     "execution_count": 171,
     "metadata": {},
     "output_type": "execute_result"
    }
   ],
   "source": [
    "np.eye(3).shape"
   ]
  },
  {
   "cell_type": "code",
   "execution_count": 30,
   "id": "f2f3a33e",
   "metadata": {},
   "outputs": [
    {
     "data": {
      "text/plain": [
       "array([0, 0, 0, 0, 0, 0, 0, 0, 0, 0, 0], dtype=int16)"
      ]
     },
     "execution_count": 30,
     "metadata": {},
     "output_type": "execute_result"
    }
   ],
   "source": [
    "np.zeros(11,dtype='int16')"
   ]
  },
  {
   "cell_type": "code",
   "execution_count": 31,
   "id": "02b5a994",
   "metadata": {},
   "outputs": [
    {
     "data": {
      "text/plain": [
       "array([0, 0, 0, 0, 0, 0, 0, 0, 0, 0, 0], dtype=int16)"
      ]
     },
     "execution_count": 31,
     "metadata": {},
     "output_type": "execute_result"
    }
   ],
   "source": [
    "np.zeros(11,dtype=np.int16)"
   ]
  },
  {
   "cell_type": "code",
   "execution_count": 28,
   "id": "395c7de6",
   "metadata": {},
   "outputs": [
    {
     "data": {
      "text/plain": [
       "array([0, 0, 0, 0, 0, 0, 0, 0, 0, 0])"
      ]
     },
     "execution_count": 28,
     "metadata": {},
     "output_type": "execute_result"
    }
   ],
   "source": [
    "np.zeros(10,dtype='int32')"
   ]
  },
  {
   "cell_type": "code",
   "execution_count": 36,
   "id": "1b0ad17c",
   "metadata": {},
   "outputs": [],
   "source": [
    "x1=np.random.randint(0,10,(3,4),dtype=np.int16)"
   ]
  },
  {
   "cell_type": "markdown",
   "id": "b1cabd39",
   "metadata": {},
   "source": [
    "# 單維度切片"
   ]
  },
  {
   "cell_type": "code",
   "execution_count": 172,
   "id": "6b2ae0eb",
   "metadata": {},
   "outputs": [],
   "source": [
    "\n",
    "data1=np.array([ [-1,-5,2,3] ]) #記得雙中括號才是1x4"
   ]
  },
  {
   "cell_type": "code",
   "execution_count": 173,
   "id": "b4927a80",
   "metadata": {
    "scrolled": true
   },
   "outputs": [
    {
     "data": {
      "text/plain": [
       "(1, 4)"
      ]
     },
     "execution_count": 173,
     "metadata": {},
     "output_type": "execute_result"
    }
   ],
   "source": [
    "data1.shape"
   ]
  },
  {
   "cell_type": "code",
   "execution_count": 133,
   "id": "75bbe19b",
   "metadata": {},
   "outputs": [
    {
     "data": {
      "text/plain": [
       "array([-5,  2])"
      ]
     },
     "execution_count": 133,
     "metadata": {},
     "output_type": "execute_result"
    }
   ],
   "source": [
    "data1[1:3]"
   ]
  },
  {
   "cell_type": "markdown",
   "id": "cf15a8e3",
   "metadata": {},
   "source": [
    "# 多維度切片"
   ]
  },
  {
   "cell_type": "code",
   "execution_count": 135,
   "id": "39dc11a9",
   "metadata": {},
   "outputs": [
    {
     "name": "stdout",
     "output_type": "stream",
     "text": [
      "形狀為(4, 3),大小為12\n"
     ]
    }
   ],
   "source": [
    "data = np.array([\n",
    "    [0,1,2],\n",
    "    [10,-5,3],\n",
    "    [2,6,2],\n",
    "    [2,1,0]\n",
    "])\n",
    "print(\"形狀為{},大小為{}\".format( data.shape,data.size))"
   ]
  },
  {
   "cell_type": "code",
   "execution_count": 136,
   "id": "3afb570b",
   "metadata": {},
   "outputs": [
    {
     "data": {
      "text/plain": [
       "array([[10, -5],\n",
       "       [ 2,  6]])"
      ]
     },
     "execution_count": 136,
     "metadata": {},
     "output_type": "execute_result"
    }
   ],
   "source": [
    "# 注意不要有小括號\n",
    "data[1:3,0:2] "
   ]
  },
  {
   "cell_type": "code",
   "execution_count": 140,
   "id": "172eb08c",
   "metadata": {},
   "outputs": [
    {
     "data": {
      "text/plain": [
       "dtype('int32')"
      ]
     },
     "execution_count": 140,
     "metadata": {},
     "output_type": "execute_result"
    }
   ],
   "source": [
    "data[0:2,1]\n",
    "data[0:2,1].dtype"
   ]
  },
  {
   "cell_type": "code",
   "execution_count": 141,
   "id": "c6f97f1b",
   "metadata": {},
   "outputs": [],
   "source": [
    "data=np.array(\n",
    "[\n",
    "    [\n",
    "        [2,1,3],[1,2,3]\n",
    "    ],\n",
    "    [\n",
    "        [0,2,1],[8,9,10]\n",
    "    ]\n",
    "])"
   ]
  },
  {
   "cell_type": "code",
   "execution_count": 143,
   "id": "c65355e6",
   "metadata": {},
   "outputs": [
    {
     "data": {
      "text/plain": [
       "(2, 2, 3)"
      ]
     },
     "execution_count": 143,
     "metadata": {},
     "output_type": "execute_result"
    }
   ],
   "source": [
    "data.shape"
   ]
  },
  {
   "cell_type": "code",
   "execution_count": 144,
   "id": "4ac8e46c",
   "metadata": {},
   "outputs": [
    {
     "data": {
      "text/plain": [
       "12"
      ]
     },
     "execution_count": 144,
     "metadata": {},
     "output_type": "execute_result"
    }
   ],
   "source": [
    "data.size"
   ]
  },
  {
   "cell_type": "code",
   "execution_count": 145,
   "id": "e9908c33",
   "metadata": {},
   "outputs": [
    {
     "data": {
      "text/plain": [
       "array([[2, 1, 3],\n",
       "       [1, 2, 3]])"
      ]
     },
     "execution_count": 145,
     "metadata": {},
     "output_type": "execute_result"
    }
   ],
   "source": [
    "data[0,...]"
   ]
  },
  {
   "cell_type": "code",
   "execution_count": 146,
   "id": "3d6fe6ae",
   "metadata": {},
   "outputs": [
    {
     "data": {
      "text/plain": [
       "array([[[ 1,  3],\n",
       "        [ 2,  3]],\n",
       "\n",
       "       [[ 2,  1],\n",
       "        [ 9, 10]]])"
      ]
     },
     "execution_count": 146,
     "metadata": {},
     "output_type": "execute_result"
    }
   ],
   "source": [
    "data[...,1:3] "
   ]
  },
  {
   "cell_type": "code",
   "execution_count": 148,
   "id": "d0ea97e5",
   "metadata": {},
   "outputs": [],
   "source": [
    "data=np.full((4,5,6),3.14)"
   ]
  },
  {
   "cell_type": "markdown",
   "id": "458c2474",
   "metadata": {},
   "source": [
    "# 合併 stack \n",
    "# 將數個多維陣列，合併成一個"
   ]
  },
  {
   "cell_type": "code",
   "execution_count": 181,
   "id": "b058c57f",
   "metadata": {},
   "outputs": [],
   "source": [
    "data1=np.array([\n",
    "    [3,4,5,6,7],\n",
    "    [1,2,3,4,5]\n",
    "])  #2x5"
   ]
  },
  {
   "cell_type": "code",
   "execution_count": 182,
   "id": "17cfdddb",
   "metadata": {},
   "outputs": [],
   "source": [
    "data2=np.array(\n",
    "    [\n",
    "        [11,12,13,14,15],\n",
    "        [21,22,23,24,25]\n",
    "    ]) #2x5"
   ]
  },
  {
   "cell_type": "markdown",
   "id": "61170c73",
   "metadata": {},
   "source": [
    "# 合併第一個維度"
   ]
  },
  {
   "cell_type": "code",
   "execution_count": 183,
   "id": "2326a06d",
   "metadata": {},
   "outputs": [
    {
     "data": {
      "text/plain": [
       "array([[ 3,  4,  5,  6,  7],\n",
       "       [ 1,  2,  3,  4,  5],\n",
       "       [11, 12, 13, 14, 15],\n",
       "       [21, 22, 23, 24, 25]])"
      ]
     },
     "execution_count": 183,
     "metadata": {},
     "output_type": "execute_result"
    }
   ],
   "source": [
    "result1=np.vstack( (data1,data2) )\n",
    "\n",
    "result1"
   ]
  },
  {
   "cell_type": "markdown",
   "id": "65ac1420",
   "metadata": {},
   "source": [
    "# 合併第二個維度"
   ]
  },
  {
   "cell_type": "code",
   "execution_count": 184,
   "id": "ab7c38c6",
   "metadata": {},
   "outputs": [
    {
     "data": {
      "text/plain": [
       "array([[ 3,  4,  5,  6,  7, 11, 12, 13, 14, 15],\n",
       "       [ 1,  2,  3,  4,  5, 21, 22, 23, 24, 25]])"
      ]
     },
     "execution_count": 184,
     "metadata": {},
     "output_type": "execute_result"
    }
   ],
   "source": [
    "result2 = np.hstack( (data1,data2) )\n",
    "result2"
   ]
  },
  {
   "cell_type": "markdown",
   "id": "123c217f",
   "metadata": {},
   "source": [
    "# 合併三個陣列"
   ]
  },
  {
   "cell_type": "code",
   "execution_count": 186,
   "id": "d0760ba2",
   "metadata": {},
   "outputs": [],
   "source": [
    "arr1=np.array([\n",
    "    [1,2,3],\n",
    "    [4,5,6]    \n",
    "]\n",
    ")"
   ]
  },
  {
   "cell_type": "code",
   "execution_count": 188,
   "id": "1ce3f047",
   "metadata": {},
   "outputs": [],
   "source": [
    "arr2=np.array([\n",
    "    [7,8,9],\n",
    "    [10,11,12]\n",
    "])"
   ]
  },
  {
   "cell_type": "code",
   "execution_count": 192,
   "id": "c720cb41",
   "metadata": {},
   "outputs": [],
   "source": [
    "arr3=np.array([\n",
    "    [13,14],\n",
    "    [15,16]\n",
    "])"
   ]
  },
  {
   "cell_type": "code",
   "execution_count": 195,
   "id": "76d07f95",
   "metadata": {},
   "outputs": [
    {
     "data": {
      "text/plain": [
       "array([[ 1,  2,  3,  7,  8,  9, 13, 14],\n",
       "       [ 4,  5,  6, 10, 11, 12, 15, 16]])"
      ]
     },
     "execution_count": 195,
     "metadata": {},
     "output_type": "execute_result"
    }
   ],
   "source": [
    "result3 = np.hstack( (arr1,arr2,arr3) ) \n",
    "result3"
   ]
  },
  {
   "cell_type": "markdown",
   "id": "81cec1c3",
   "metadata": {},
   "source": [
    "# 切割資料"
   ]
  },
  {
   "cell_type": "code",
   "execution_count": 197,
   "id": "57e723ad",
   "metadata": {},
   "outputs": [
    {
     "data": {
      "text/plain": [
       "array([[ 2,  4,  6,  8, 10, 12],\n",
       "       [ 1,  3,  5,  7,  9, 11]])"
      ]
     },
     "execution_count": 197,
     "metadata": {},
     "output_type": "execute_result"
    }
   ],
   "source": [
    "# 準備測試資料\n",
    "arr=np.array(\n",
    "[\n",
    "    [2,4,6,8,10,12],\n",
    "    [1,3,5,7,9,11]\n",
    "    \n",
    "])\n",
    "arr\n",
    "#2x6"
   ]
  },
  {
   "cell_type": "code",
   "execution_count": 198,
   "id": "9ec23f11",
   "metadata": {},
   "outputs": [
    {
     "data": {
      "text/plain": [
       "(2, 6)"
      ]
     },
     "execution_count": 198,
     "metadata": {},
     "output_type": "execute_result"
    }
   ],
   "source": [
    "arr.shape"
   ]
  },
  {
   "cell_type": "code",
   "execution_count": 199,
   "id": "b91ca2b2",
   "metadata": {},
   "outputs": [],
   "source": [
    "#根據第一個維度切割\n",
    "result = np.vsplit(arr,2)"
   ]
  },
  {
   "cell_type": "code",
   "execution_count": 200,
   "id": "f1b27c34",
   "metadata": {},
   "outputs": [
    {
     "data": {
      "text/plain": [
       "[array([[ 2,  4,  6,  8, 10, 12]]), array([[ 1,  3,  5,  7,  9, 11]])]"
      ]
     },
     "execution_count": 200,
     "metadata": {},
     "output_type": "execute_result"
    }
   ],
   "source": [
    "result"
   ]
  },
  {
   "cell_type": "code",
   "execution_count": 204,
   "id": "d0da080d",
   "metadata": {},
   "outputs": [
    {
     "data": {
      "text/plain": [
       "[array([[ 2,  4,  6,  8, 10, 12]]), array([[ 1,  3,  5,  7,  9, 11]])]"
      ]
     },
     "execution_count": 204,
     "metadata": {},
     "output_type": "execute_result"
    }
   ],
   "source": [
    " np.vsplit(arr,2)"
   ]
  },
  {
   "cell_type": "code",
   "execution_count": 208,
   "id": "07b8cfc6",
   "metadata": {},
   "outputs": [
    {
     "data": {
      "text/plain": [
       "array([[ 2,  4,  6,  8, 10, 12],\n",
       "       [ 1,  3,  5,  7,  9, 11]])"
      ]
     },
     "execution_count": 208,
     "metadata": {},
     "output_type": "execute_result"
    }
   ],
   "source": [
    "# 準備測試資料\n",
    "arr=np.array(\n",
    "[\n",
    "    [2,4,6,8,10,12],\n",
    "    [1,3,5,7,9,11]\n",
    "    \n",
    "])\n",
    "arr\n",
    "#2x6"
   ]
  },
  {
   "cell_type": "code",
   "execution_count": 210,
   "id": "61a2b064",
   "metadata": {},
   "outputs": [
    {
     "data": {
      "text/plain": [
       "[array([[2, 4, 6],\n",
       "        [1, 3, 5]]),\n",
       " array([[ 8, 10, 12],\n",
       "        [ 7,  9, 11]])]"
      ]
     },
     "execution_count": 210,
     "metadata": {},
     "output_type": "execute_result"
    }
   ],
   "source": [
    "#根據第二個維度切割\n",
    "np.hsplit(arr,2) #切成兩個2x3的陣列"
   ]
  },
  {
   "cell_type": "code",
   "execution_count": 211,
   "id": "5c022b2a",
   "metadata": {},
   "outputs": [
    {
     "data": {
      "text/plain": [
       "[array([[2, 4],\n",
       "        [1, 3]]),\n",
       " array([[6, 8],\n",
       "        [5, 7]]),\n",
       " array([[10, 12],\n",
       "        [ 9, 11]])]"
      ]
     },
     "execution_count": 211,
     "metadata": {},
     "output_type": "execute_result"
    }
   ],
   "source": [
    "#根據第二個維度切割\n",
    "np.hsplit(arr,3) #切成三個2x2的陣列"
   ]
  },
  {
   "cell_type": "code",
   "execution_count": null,
   "id": "f3961a80",
   "metadata": {},
   "outputs": [],
   "source": [
    "# 延伸\n"
   ]
  }
 ],
 "metadata": {
  "kernelspec": {
   "display_name": "Python 3 (ipykernel)",
   "language": "python",
   "name": "python3"
  },
  "language_info": {
   "codemirror_mode": {
    "name": "ipython",
    "version": 3
   },
   "file_extension": ".py",
   "mimetype": "text/x-python",
   "name": "python",
   "nbconvert_exporter": "python",
   "pygments_lexer": "ipython3",
   "version": "3.9.12"
  }
 },
 "nbformat": 4,
 "nbformat_minor": 5
}
