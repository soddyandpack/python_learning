{
 "cells": [
  {
   "cell_type": "code",
   "execution_count": 1,
   "id": "e0fce8cf",
   "metadata": {},
   "outputs": [],
   "source": [
    "import pandas as pd\n",
    "import numpy as np"
   ]
  },
  {
   "cell_type": "code",
   "execution_count": 2,
   "id": "7e11ade2",
   "metadata": {},
   "outputs": [],
   "source": [
    "data=pd.DataFrame(\n",
    "{\n",
    "    \"name\":[\"Amy\",\"Bob\",\"Chen\"],\n",
    "    \"salary\":[30000,40000,22000]\n",
    "}, index=['a','b','c'])# (字典, index= 索引列表)"
   ]
  },
  {
   "cell_type": "code",
   "execution_count": 3,
   "id": "40a51608",
   "metadata": {},
   "outputs": [],
   "source": [
    "data['revenue'] = [50000,40000,30000]"
   ]
  },
  {
   "cell_type": "code",
   "execution_count": 4,
   "id": "a5ea77b6",
   "metadata": {},
   "outputs": [
    {
     "data": {
      "text/html": [
       "<div>\n",
       "<style scoped>\n",
       "    .dataframe tbody tr th:only-of-type {\n",
       "        vertical-align: middle;\n",
       "    }\n",
       "\n",
       "    .dataframe tbody tr th {\n",
       "        vertical-align: top;\n",
       "    }\n",
       "\n",
       "    .dataframe thead th {\n",
       "        text-align: right;\n",
       "    }\n",
       "</style>\n",
       "<table border=\"1\" class=\"dataframe\">\n",
       "  <thead>\n",
       "    <tr style=\"text-align: right;\">\n",
       "      <th></th>\n",
       "      <th>name</th>\n",
       "      <th>salary</th>\n",
       "      <th>revenue</th>\n",
       "    </tr>\n",
       "  </thead>\n",
       "  <tbody>\n",
       "    <tr>\n",
       "      <th>a</th>\n",
       "      <td>Amy</td>\n",
       "      <td>30000</td>\n",
       "      <td>50000</td>\n",
       "    </tr>\n",
       "    <tr>\n",
       "      <th>b</th>\n",
       "      <td>Bob</td>\n",
       "      <td>40000</td>\n",
       "      <td>40000</td>\n",
       "    </tr>\n",
       "    <tr>\n",
       "      <th>c</th>\n",
       "      <td>Chen</td>\n",
       "      <td>22000</td>\n",
       "      <td>30000</td>\n",
       "    </tr>\n",
       "  </tbody>\n",
       "</table>\n",
       "</div>"
      ],
      "text/plain": [
       "   name  salary  revenue\n",
       "a   Amy   30000    50000\n",
       "b   Bob   40000    40000\n",
       "c  Chen   22000    30000"
      ]
     },
     "execution_count": 4,
     "metadata": {},
     "output_type": "execute_result"
    }
   ],
   "source": [
    "data"
   ]
  },
  {
   "cell_type": "code",
   "execution_count": 5,
   "id": "6f1b1c5f",
   "metadata": {},
   "outputs": [
    {
     "data": {
      "text/plain": [
       "9"
      ]
     },
     "execution_count": 5,
     "metadata": {},
     "output_type": "execute_result"
    }
   ],
   "source": [
    "data.size"
   ]
  },
  {
   "cell_type": "code",
   "execution_count": 6,
   "id": "440b905a",
   "metadata": {},
   "outputs": [
    {
     "data": {
      "text/plain": [
       "(3, 3)"
      ]
     },
     "execution_count": 6,
     "metadata": {},
     "output_type": "execute_result"
    }
   ],
   "source": [
    "data.shape"
   ]
  },
  {
   "cell_type": "code",
   "execution_count": 7,
   "id": "73cedef7",
   "metadata": {},
   "outputs": [
    {
     "data": {
      "text/plain": [
       "Index(['a', 'b', 'c'], dtype='object')"
      ]
     },
     "execution_count": 7,
     "metadata": {},
     "output_type": "execute_result"
    }
   ],
   "source": [
    "data.index"
   ]
  },
  {
   "cell_type": "code",
   "execution_count": 8,
   "id": "b5afd9c5",
   "metadata": {},
   "outputs": [
    {
     "data": {
      "text/plain": [
       "Index(['name', 'salary', 'revenue'], dtype='object')"
      ]
     },
     "execution_count": 8,
     "metadata": {},
     "output_type": "execute_result"
    }
   ],
   "source": [
    "data.columns"
   ]
  },
  {
   "cell_type": "code",
   "execution_count": 9,
   "id": "0292e330",
   "metadata": {},
   "outputs": [
    {
     "data": {
      "text/plain": [
       "name         Bob\n",
       "salary     40000\n",
       "revenue    40000\n",
       "Name: b, dtype: object"
      ]
     },
     "execution_count": 9,
     "metadata": {},
     "output_type": "execute_result"
    }
   ],
   "source": [
    "# 取得第二列 , 按照列順序\n",
    "data.iloc[1]"
   ]
  },
  {
   "cell_type": "code",
   "execution_count": 10,
   "id": "a06545a1",
   "metadata": {},
   "outputs": [
    {
     "data": {
      "text/plain": [
       "name        Chen\n",
       "salary     22000\n",
       "revenue    30000\n",
       "Name: c, dtype: object"
      ]
     },
     "execution_count": 10,
     "metadata": {},
     "output_type": "execute_result"
    }
   ],
   "source": [
    "# 取得第二列 , 按照自訂的索引\n",
    "data.loc[\"c\"] "
   ]
  },
  {
   "cell_type": "code",
   "execution_count": 11,
   "id": "f3bdcb11",
   "metadata": {},
   "outputs": [
    {
     "data": {
      "text/plain": [
       "a     Amy\n",
       "b     Bob\n",
       "c    Chen\n",
       "Name: name, dtype: object"
      ]
     },
     "execution_count": 11,
     "metadata": {},
     "output_type": "execute_result"
    }
   ],
   "source": [
    "# 取得第二欄\n",
    "data[\"name\"]"
   ]
  },
  {
   "cell_type": "code",
   "execution_count": 12,
   "id": "c29fbf36",
   "metadata": {},
   "outputs": [],
   "source": [
    "data['rank']=pd.Series([3,6,1],index=['a','b','c'])"
   ]
  },
  {
   "cell_type": "code",
   "execution_count": 13,
   "id": "f456f79e",
   "metadata": {},
   "outputs": [
    {
     "data": {
      "text/html": [
       "<div>\n",
       "<style scoped>\n",
       "    .dataframe tbody tr th:only-of-type {\n",
       "        vertical-align: middle;\n",
       "    }\n",
       "\n",
       "    .dataframe tbody tr th {\n",
       "        vertical-align: top;\n",
       "    }\n",
       "\n",
       "    .dataframe thead th {\n",
       "        text-align: right;\n",
       "    }\n",
       "</style>\n",
       "<table border=\"1\" class=\"dataframe\">\n",
       "  <thead>\n",
       "    <tr style=\"text-align: right;\">\n",
       "      <th></th>\n",
       "      <th>name</th>\n",
       "      <th>salary</th>\n",
       "      <th>revenue</th>\n",
       "      <th>rank</th>\n",
       "    </tr>\n",
       "  </thead>\n",
       "  <tbody>\n",
       "    <tr>\n",
       "      <th>a</th>\n",
       "      <td>Amy</td>\n",
       "      <td>30000</td>\n",
       "      <td>50000</td>\n",
       "      <td>3</td>\n",
       "    </tr>\n",
       "    <tr>\n",
       "      <th>b</th>\n",
       "      <td>Bob</td>\n",
       "      <td>40000</td>\n",
       "      <td>40000</td>\n",
       "      <td>6</td>\n",
       "    </tr>\n",
       "    <tr>\n",
       "      <th>c</th>\n",
       "      <td>Chen</td>\n",
       "      <td>22000</td>\n",
       "      <td>30000</td>\n",
       "      <td>1</td>\n",
       "    </tr>\n",
       "  </tbody>\n",
       "</table>\n",
       "</div>"
      ],
      "text/plain": [
       "   name  salary  revenue  rank\n",
       "a   Amy   30000    50000     3\n",
       "b   Bob   40000    40000     6\n",
       "c  Chen   22000    30000     1"
      ]
     },
     "execution_count": 13,
     "metadata": {},
     "output_type": "execute_result"
    }
   ],
   "source": [
    "data"
   ]
  },
  {
   "cell_type": "code",
   "execution_count": 14,
   "id": "a92e1494",
   "metadata": {},
   "outputs": [
    {
     "data": {
      "text/plain": [
       "a     AMY\n",
       "b     BOB\n",
       "c    CHEN\n",
       "Name: name, dtype: object"
      ]
     },
     "execution_count": 14,
     "metadata": {},
     "output_type": "execute_result"
    }
   ],
   "source": [
    "data[\"name\"].str.upper()"
   ]
  },
  {
   "cell_type": "code",
   "execution_count": 15,
   "id": "25f04c13",
   "metadata": {},
   "outputs": [
    {
     "data": {
      "text/html": [
       "<div>\n",
       "<style scoped>\n",
       "    .dataframe tbody tr th:only-of-type {\n",
       "        vertical-align: middle;\n",
       "    }\n",
       "\n",
       "    .dataframe tbody tr th {\n",
       "        vertical-align: top;\n",
       "    }\n",
       "\n",
       "    .dataframe thead th {\n",
       "        text-align: right;\n",
       "    }\n",
       "</style>\n",
       "<table border=\"1\" class=\"dataframe\">\n",
       "  <thead>\n",
       "    <tr style=\"text-align: right;\">\n",
       "      <th></th>\n",
       "      <th>name</th>\n",
       "      <th>salary</th>\n",
       "      <th>revenue</th>\n",
       "      <th>rank</th>\n",
       "    </tr>\n",
       "  </thead>\n",
       "  <tbody>\n",
       "    <tr>\n",
       "      <th>a</th>\n",
       "      <td>Amy</td>\n",
       "      <td>30000</td>\n",
       "      <td>50000</td>\n",
       "      <td>3</td>\n",
       "    </tr>\n",
       "    <tr>\n",
       "      <th>b</th>\n",
       "      <td>Bob</td>\n",
       "      <td>40000</td>\n",
       "      <td>40000</td>\n",
       "      <td>6</td>\n",
       "    </tr>\n",
       "    <tr>\n",
       "      <th>c</th>\n",
       "      <td>Chen</td>\n",
       "      <td>22000</td>\n",
       "      <td>30000</td>\n",
       "      <td>1</td>\n",
       "    </tr>\n",
       "  </tbody>\n",
       "</table>\n",
       "</div>"
      ],
      "text/plain": [
       "   name  salary  revenue  rank\n",
       "a   Amy   30000    50000     3\n",
       "b   Bob   40000    40000     6\n",
       "c  Chen   22000    30000     1"
      ]
     },
     "execution_count": 15,
     "metadata": {},
     "output_type": "execute_result"
    }
   ],
   "source": [
    "data"
   ]
  },
  {
   "cell_type": "code",
   "execution_count": 16,
   "id": "f4dd723e",
   "metadata": {},
   "outputs": [],
   "source": [
    "data[\"name\"]=data[\"name\"].str.upper()"
   ]
  },
  {
   "cell_type": "code",
   "execution_count": 17,
   "id": "6b2cd0c9",
   "metadata": {},
   "outputs": [
    {
     "data": {
      "text/html": [
       "<div>\n",
       "<style scoped>\n",
       "    .dataframe tbody tr th:only-of-type {\n",
       "        vertical-align: middle;\n",
       "    }\n",
       "\n",
       "    .dataframe tbody tr th {\n",
       "        vertical-align: top;\n",
       "    }\n",
       "\n",
       "    .dataframe thead th {\n",
       "        text-align: right;\n",
       "    }\n",
       "</style>\n",
       "<table border=\"1\" class=\"dataframe\">\n",
       "  <thead>\n",
       "    <tr style=\"text-align: right;\">\n",
       "      <th></th>\n",
       "      <th>name</th>\n",
       "      <th>salary</th>\n",
       "      <th>revenue</th>\n",
       "      <th>rank</th>\n",
       "    </tr>\n",
       "  </thead>\n",
       "  <tbody>\n",
       "    <tr>\n",
       "      <th>a</th>\n",
       "      <td>AMY</td>\n",
       "      <td>30000</td>\n",
       "      <td>50000</td>\n",
       "      <td>3</td>\n",
       "    </tr>\n",
       "    <tr>\n",
       "      <th>b</th>\n",
       "      <td>BOB</td>\n",
       "      <td>40000</td>\n",
       "      <td>40000</td>\n",
       "      <td>6</td>\n",
       "    </tr>\n",
       "    <tr>\n",
       "      <th>c</th>\n",
       "      <td>CHEN</td>\n",
       "      <td>22000</td>\n",
       "      <td>30000</td>\n",
       "      <td>1</td>\n",
       "    </tr>\n",
       "  </tbody>\n",
       "</table>\n",
       "</div>"
      ],
      "text/plain": [
       "   name  salary  revenue  rank\n",
       "a   AMY   30000    50000     3\n",
       "b   BOB   40000    40000     6\n",
       "c  CHEN   22000    30000     1"
      ]
     },
     "execution_count": 17,
     "metadata": {},
     "output_type": "execute_result"
    }
   ],
   "source": [
    "data"
   ]
  },
  {
   "cell_type": "code",
   "execution_count": 18,
   "id": "4afa3834",
   "metadata": {},
   "outputs": [],
   "source": [
    "data[\"salary_avg\"]=data[\"salary\"].mean()"
   ]
  },
  {
   "cell_type": "code",
   "execution_count": 19,
   "id": "50bc9112",
   "metadata": {},
   "outputs": [
    {
     "data": {
      "text/html": [
       "<div>\n",
       "<style scoped>\n",
       "    .dataframe tbody tr th:only-of-type {\n",
       "        vertical-align: middle;\n",
       "    }\n",
       "\n",
       "    .dataframe tbody tr th {\n",
       "        vertical-align: top;\n",
       "    }\n",
       "\n",
       "    .dataframe thead th {\n",
       "        text-align: right;\n",
       "    }\n",
       "</style>\n",
       "<table border=\"1\" class=\"dataframe\">\n",
       "  <thead>\n",
       "    <tr style=\"text-align: right;\">\n",
       "      <th></th>\n",
       "      <th>name</th>\n",
       "      <th>salary</th>\n",
       "      <th>revenue</th>\n",
       "      <th>rank</th>\n",
       "      <th>salary_avg</th>\n",
       "    </tr>\n",
       "  </thead>\n",
       "  <tbody>\n",
       "    <tr>\n",
       "      <th>a</th>\n",
       "      <td>AMY</td>\n",
       "      <td>30000</td>\n",
       "      <td>50000</td>\n",
       "      <td>3</td>\n",
       "      <td>30666.666667</td>\n",
       "    </tr>\n",
       "    <tr>\n",
       "      <th>b</th>\n",
       "      <td>BOB</td>\n",
       "      <td>40000</td>\n",
       "      <td>40000</td>\n",
       "      <td>6</td>\n",
       "      <td>30666.666667</td>\n",
       "    </tr>\n",
       "    <tr>\n",
       "      <th>c</th>\n",
       "      <td>CHEN</td>\n",
       "      <td>22000</td>\n",
       "      <td>30000</td>\n",
       "      <td>1</td>\n",
       "      <td>30666.666667</td>\n",
       "    </tr>\n",
       "  </tbody>\n",
       "</table>\n",
       "</div>"
      ],
      "text/plain": [
       "   name  salary  revenue  rank    salary_avg\n",
       "a   AMY   30000    50000     3  30666.666667\n",
       "b   BOB   40000    40000     6  30666.666667\n",
       "c  CHEN   22000    30000     1  30666.666667"
      ]
     },
     "execution_count": 19,
     "metadata": {},
     "output_type": "execute_result"
    }
   ],
   "source": [
    "data"
   ]
  },
  {
   "cell_type": "code",
   "execution_count": 20,
   "id": "84672726",
   "metadata": {},
   "outputs": [
    {
     "data": {
      "text/plain": [
       "30666.666666666668"
      ]
     },
     "execution_count": 20,
     "metadata": {},
     "output_type": "execute_result"
    }
   ],
   "source": [
    "data[\"salary\"].mean() #利用broadcasting 把此數值全部寫入新欄位"
   ]
  },
  {
   "cell_type": "code",
   "execution_count": 21,
   "id": "05769ec4",
   "metadata": {},
   "outputs": [],
   "source": [
    "# 創建新欄位,利用向量運算\n",
    "data[\"cp\"]=data['revenue']/data[\"salary\"]"
   ]
  },
  {
   "cell_type": "code",
   "execution_count": 22,
   "id": "af6d05cb",
   "metadata": {},
   "outputs": [
    {
     "data": {
      "text/html": [
       "<div>\n",
       "<style scoped>\n",
       "    .dataframe tbody tr th:only-of-type {\n",
       "        vertical-align: middle;\n",
       "    }\n",
       "\n",
       "    .dataframe tbody tr th {\n",
       "        vertical-align: top;\n",
       "    }\n",
       "\n",
       "    .dataframe thead th {\n",
       "        text-align: right;\n",
       "    }\n",
       "</style>\n",
       "<table border=\"1\" class=\"dataframe\">\n",
       "  <thead>\n",
       "    <tr style=\"text-align: right;\">\n",
       "      <th></th>\n",
       "      <th>name</th>\n",
       "      <th>salary</th>\n",
       "      <th>revenue</th>\n",
       "      <th>rank</th>\n",
       "      <th>salary_avg</th>\n",
       "      <th>cp</th>\n",
       "    </tr>\n",
       "  </thead>\n",
       "  <tbody>\n",
       "    <tr>\n",
       "      <th>a</th>\n",
       "      <td>AMY</td>\n",
       "      <td>30000</td>\n",
       "      <td>50000</td>\n",
       "      <td>3</td>\n",
       "      <td>30666.666667</td>\n",
       "      <td>1.666667</td>\n",
       "    </tr>\n",
       "    <tr>\n",
       "      <th>b</th>\n",
       "      <td>BOB</td>\n",
       "      <td>40000</td>\n",
       "      <td>40000</td>\n",
       "      <td>6</td>\n",
       "      <td>30666.666667</td>\n",
       "      <td>1.000000</td>\n",
       "    </tr>\n",
       "    <tr>\n",
       "      <th>c</th>\n",
       "      <td>CHEN</td>\n",
       "      <td>22000</td>\n",
       "      <td>30000</td>\n",
       "      <td>1</td>\n",
       "      <td>30666.666667</td>\n",
       "      <td>1.363636</td>\n",
       "    </tr>\n",
       "  </tbody>\n",
       "</table>\n",
       "</div>"
      ],
      "text/plain": [
       "   name  salary  revenue  rank    salary_avg        cp\n",
       "a   AMY   30000    50000     3  30666.666667  1.666667\n",
       "b   BOB   40000    40000     6  30666.666667  1.000000\n",
       "c  CHEN   22000    30000     1  30666.666667  1.363636"
      ]
     },
     "execution_count": 22,
     "metadata": {},
     "output_type": "execute_result"
    }
   ],
   "source": [
    "data"
   ]
  },
  {
   "cell_type": "code",
   "execution_count": 23,
   "id": "067900aa",
   "metadata": {},
   "outputs": [],
   "source": [
    "# 尋找某欄位中，是否有包含大寫H字元，若是則True ，若否則False， 回應結果為一個布林陣列\n",
    "cond1 = data[\"name\"].str.contains(\"H\")"
   ]
  },
  {
   "cell_type": "code",
   "execution_count": 24,
   "id": "399015e2",
   "metadata": {},
   "outputs": [
    {
     "data": {
      "text/html": [
       "<div>\n",
       "<style scoped>\n",
       "    .dataframe tbody tr th:only-of-type {\n",
       "        vertical-align: middle;\n",
       "    }\n",
       "\n",
       "    .dataframe tbody tr th {\n",
       "        vertical-align: top;\n",
       "    }\n",
       "\n",
       "    .dataframe thead th {\n",
       "        text-align: right;\n",
       "    }\n",
       "</style>\n",
       "<table border=\"1\" class=\"dataframe\">\n",
       "  <thead>\n",
       "    <tr style=\"text-align: right;\">\n",
       "      <th></th>\n",
       "      <th>name</th>\n",
       "      <th>salary</th>\n",
       "      <th>revenue</th>\n",
       "      <th>rank</th>\n",
       "      <th>salary_avg</th>\n",
       "      <th>cp</th>\n",
       "    </tr>\n",
       "  </thead>\n",
       "  <tbody>\n",
       "    <tr>\n",
       "      <th>c</th>\n",
       "      <td>CHEN</td>\n",
       "      <td>22000</td>\n",
       "      <td>30000</td>\n",
       "      <td>1</td>\n",
       "      <td>30666.666667</td>\n",
       "      <td>1.363636</td>\n",
       "    </tr>\n",
       "  </tbody>\n",
       "</table>\n",
       "</div>"
      ],
      "text/plain": [
       "   name  salary  revenue  rank    salary_avg        cp\n",
       "c  CHEN   22000    30000     1  30666.666667  1.363636"
      ]
     },
     "execution_count": 24,
     "metadata": {},
     "output_type": "execute_result"
    }
   ],
   "source": [
    "data[cond1]"
   ]
  },
  {
   "cell_type": "code",
   "execution_count": 25,
   "id": "195a4bad",
   "metadata": {},
   "outputs": [
    {
     "data": {
      "text/html": [
       "<div>\n",
       "<style scoped>\n",
       "    .dataframe tbody tr th:only-of-type {\n",
       "        vertical-align: middle;\n",
       "    }\n",
       "\n",
       "    .dataframe tbody tr th {\n",
       "        vertical-align: top;\n",
       "    }\n",
       "\n",
       "    .dataframe thead th {\n",
       "        text-align: right;\n",
       "    }\n",
       "</style>\n",
       "<table border=\"1\" class=\"dataframe\">\n",
       "  <thead>\n",
       "    <tr style=\"text-align: right;\">\n",
       "      <th></th>\n",
       "      <th>name</th>\n",
       "      <th>salary</th>\n",
       "      <th>revenue</th>\n",
       "      <th>rank</th>\n",
       "      <th>salary_avg</th>\n",
       "      <th>cp</th>\n",
       "    </tr>\n",
       "  </thead>\n",
       "  <tbody>\n",
       "    <tr>\n",
       "      <th>b</th>\n",
       "      <td>BOB</td>\n",
       "      <td>40000</td>\n",
       "      <td>40000</td>\n",
       "      <td>6</td>\n",
       "      <td>30666.666667</td>\n",
       "      <td>1.0</td>\n",
       "    </tr>\n",
       "  </tbody>\n",
       "</table>\n",
       "</div>"
      ],
      "text/plain": [
       "  name  salary  revenue  rank    salary_avg   cp\n",
       "b  BOB   40000    40000     6  30666.666667  1.0"
      ]
     },
     "execution_count": 25,
     "metadata": {},
     "output_type": "execute_result"
    }
   ],
   "source": [
    "cond2= data['salary']>=40000\n",
    "data[cond2]"
   ]
  },
  {
   "cell_type": "code",
   "execution_count": 26,
   "id": "835cb380",
   "metadata": {},
   "outputs": [],
   "source": [
    "cond3=data['name']==\"amy\""
   ]
  },
  {
   "cell_type": "code",
   "execution_count": 27,
   "id": "12e72556",
   "metadata": {},
   "outputs": [
    {
     "data": {
      "text/plain": [
       "(0, 6)"
      ]
     },
     "execution_count": 27,
     "metadata": {},
     "output_type": "execute_result"
    }
   ],
   "source": [
    "data[cond3].shape"
   ]
  },
  {
   "cell_type": "code",
   "execution_count": 28,
   "id": "69848c45",
   "metadata": {},
   "outputs": [],
   "source": [
    "# 實務演練 :  https://bit.ly/2UMcbDI\n",
    "# 收集資料\n",
    "# 清理資料\n",
    "# 分析資料\n",
    "# 基於資料的應用"
   ]
  },
  {
   "cell_type": "code",
   "execution_count": 42,
   "id": "0ecaaf39",
   "metadata": {},
   "outputs": [],
   "source": [
    "data1 = pd.read_csv('./0822googleplaystore.csv',encoding='latin-1')"
   ]
  },
  {
   "cell_type": "code",
   "execution_count": null,
   "id": "782aef27",
   "metadata": {},
   "outputs": [],
   "source": []
  }
 ],
 "metadata": {
  "kernelspec": {
   "display_name": "Python 3 (ipykernel)",
   "language": "python",
   "name": "python3"
  },
  "language_info": {
   "codemirror_mode": {
    "name": "ipython",
    "version": 3
   },
   "file_extension": ".py",
   "mimetype": "text/x-python",
   "name": "python",
   "nbconvert_exporter": "python",
   "pygments_lexer": "ipython3",
   "version": "3.9.12"
  }
 },
 "nbformat": 4,
 "nbformat_minor": 5
}
